{
 "cells": [
  {
   "cell_type": "code",
   "execution_count": 65,
   "id": "209f2e46",
   "metadata": {},
   "outputs": [],
   "source": [
    "import pandas as pd\n",
    "from itertools import islice\n",
    "import numpy as np\n",
    "import xarray\n",
    "import json\n",
    "import os\n",
    "import matplotlib.pyplot as plt\n",
    "from sklearn.metrics import confusion_matrix\n",
    "from sklearn.model_selection import StratifiedShuffleSplit\n",
    "from skmultilearn.model_selection import iterative_train_test_split\n",
    "from sklearn.model_selection import ParameterGrid\n",
    "from sksurv.metrics import concordance_index_ipcw, brier_score, cumulative_dynamic_auc\n",
    "from sklearn.preprocessing import MinMaxScaler, QuantileTransformer\n",
    "\n",
    "import numpy as np\n",
    "import matplotlib.pyplot as plt\n",
    "\n",
    "# For preprocessing\n",
    "from sklearn.preprocessing import StandardScaler\n",
    "from sklearn_pandas import DataFrameMapper \n",
    "from pycox.models import DeepHitSingle\n",
    "\n",
    "import torch # For building the networks \n",
    "from torch import nn\n",
    "import torch.nn.functional as F\n",
    "import torchtuples as tt # Some useful functions\n",
    "\n",
    "from pycox.datasets import metabric\n",
    "from pycox.models import LogisticHazard\n",
    "from pycox.models import CoxPH\n",
    "from pycox.models.loss import NLLLogistiHazardLoss, NLLMTLRLoss, BCESurvLoss\n",
    "from pycox.evaluation import EvalSurv\n",
    "\n",
    "import seaborn as sn\n",
    "sn.set_theme(style=\"white\", palette=\"rocket_r\")\n",
    "\n",
    "np.random.seed(100)\n",
    "_ = torch.manual_seed(100)"
   ]
  },
  {
   "cell_type": "code",
   "execution_count": 66,
   "id": "58e61055",
   "metadata": {},
   "outputs": [],
   "source": [
    "labels = pd.read_csv('preprocessed_labels.csv', index_col='patient')\n",
    "labels['actualiculos'] = labels['actualiculos']*24\n",
    "labels.drop(labels.loc[labels['actualiculos']>240].index, inplace=True)\n",
    "\n",
    "statics = pd.read_csv('preprocessed_flat.csv', index_col='patient')\n",
    "statics.drop('nullheight', axis=1, inplace=True)"
   ]
  },
  {
   "cell_type": "code",
   "execution_count": 67,
   "id": "af65b824",
   "metadata": {},
   "outputs": [],
   "source": [
    "data = statics.merge(labels, left_index=True, right_index=True)"
   ]
  },
  {
   "cell_type": "code",
   "execution_count": 69,
   "id": "e6bfb448",
   "metadata": {},
   "outputs": [
    {
     "name": "stderr",
     "output_type": "stream",
     "text": [
      "/var/folders/rb/zrr_wqjs59v2n19lg6kssgnw0000gr/T/ipykernel_14687/2710105036.py:53: SettingWithCopyWarning: \n",
      "A value is trying to be set on a copy of a slice from a DataFrame\n",
      "\n",
      "See the caveats in the documentation: https://pandas.pydata.org/pandas-docs/stable/user_guide/indexing.html#returning-a-view-versus-a-copy\n",
      "  input_train.drop(['uniquepid', 'patienthealthsystemstayid', 'actualhospitalmortality', 'actualiculos'], axis=1, inplace=True)\n",
      "/var/folders/rb/zrr_wqjs59v2n19lg6kssgnw0000gr/T/ipykernel_14687/2710105036.py:54: SettingWithCopyWarning: \n",
      "A value is trying to be set on a copy of a slice from a DataFrame\n",
      "\n",
      "See the caveats in the documentation: https://pandas.pydata.org/pandas-docs/stable/user_guide/indexing.html#returning-a-view-versus-a-copy\n",
      "  input_val.drop(['uniquepid', 'patienthealthsystemstayid', 'actualhospitalmortality', 'actualiculos'], axis=1, inplace=True)\n",
      "/var/folders/rb/zrr_wqjs59v2n19lg6kssgnw0000gr/T/ipykernel_14687/2710105036.py:65: SettingWithCopyWarning: \n",
      "A value is trying to be set on a copy of a slice from a DataFrame\n",
      "\n",
      "See the caveats in the documentation: https://pandas.pydata.org/pandas-docs/stable/user_guide/indexing.html#returning-a-view-versus-a-copy\n",
      "  input_test.drop(['uniquepid', 'patienthealthsystemstayid', 'actualhospitalmortality', 'actualiculos'], axis=1, inplace=True)\n"
     ]
    }
   ],
   "source": [
    "sample_labels = labels.loc[list(set(list(data.index.get_level_values('patient'))))]\n",
    "\n",
    "df_test = sample_labels.sample(frac=0.2)\n",
    "df_train = sample_labels.drop(df_test.index)\n",
    "df_val = sample_labels.sample(frac=0.2)\n",
    "df_train = sample_labels.drop(df_val.index)\n",
    "\n",
    "cols_standardize = ['age', 'height', 'weight']\n",
    "cols_leave = ['gender', 'hour', 'eyes', 'motor', 'verbal',\n",
    "       'ethnicity_BLACK/AFRICAN AMERICAN', 'ethnicity_OTHER',\n",
    "       'ethnicity_UNKNOWN', 'ethnicity_WHITE',\n",
    "       'ethnicity_WHITE - OTHER EUROPEAN', 'ethnicity_misc',\n",
    "       'first_careunit_Cardiac Vascular Intensive Care Unit (CVICU)',\n",
    "       'first_careunit_Coronary Care Unit (CCU)',\n",
    "       'first_careunit_Medical Intensive Care Unit (MICU)',\n",
    "       'first_careunit_Medical/Surgical Intensive Care Unit (MICU/SICU)',\n",
    "       'first_careunit_Neuro Intermediate', 'first_careunit_Neuro Stepdown',\n",
    "       'first_careunit_Neuro Surgical Intensive Care Unit (Neuro SICU)',\n",
    "       'first_careunit_Surgical Intensive Care Unit (SICU)',\n",
    "       'first_careunit_Trauma SICU (TSICU)',\n",
    "       'admission_location_EMERGENCY ROOM',\n",
    "       'admission_location_PHYSICIAN REFERRAL',\n",
    "       'admission_location_PROCEDURE SITE',\n",
    "       'admission_location_TRANSFER FROM HOSPITAL',\n",
    "       'admission_location_TRANSFER FROM SKILLED NURSING FACILITY',\n",
    "       'admission_location_WALK-IN/SELF REFERRAL', 'admission_location_misc',\n",
    "       'insurance_Medicaid', 'insurance_Medicare', 'insurance_Other']\n",
    "\n",
    "standardize = [([col], StandardScaler()) for col in cols_standardize]\n",
    "leave = [(col, None) for col in cols_leave]\n",
    "\n",
    "x_mapper = DataFrameMapper(standardize + leave)\n",
    "\n",
    "st = set(list(df_val.index.get_level_values('patient')))\n",
    "val_index = [i for i, e in enumerate(list(set(list(data.index.get_level_values('patient'))))) if e in st]\n",
    "st = set(list(df_train.index.get_level_values('patient')))\n",
    "train_index = [i for i, e in enumerate(list(set(list(data.index.get_level_values('patient'))))) if e in st]\n",
    "st = set(list(df_test.index.get_level_values('patient')))\n",
    "test_index = [i for i, e in enumerate(list(set(list(data.index.get_level_values('patient'))))) if e in st]\n",
    "\n",
    "input_train = data.iloc[list(train_index)]\n",
    "input_val = data.iloc[val_index]\n",
    "input_test = data.iloc[test_index]\n",
    "\n",
    "num_durations = 10\n",
    "\n",
    "labtrans = LogisticHazard.label_transform(num_durations)\n",
    "\n",
    "get_target = lambda df: (df['actualiculos'].values.astype('float32'), df['actualhospitalmortality'].values.astype('int32'))\n",
    "y_train = labtrans.fit_transform(*get_target(input_train))\n",
    "y_val = labtrans.fit_transform(*get_target(input_val))\n",
    "\n",
    "input_train.drop(['uniquepid', 'patienthealthsystemstayid', 'actualhospitalmortality', 'actualiculos'], axis=1, inplace=True)\n",
    "input_val.drop(['uniquepid', 'patienthealthsystemstayid', 'actualhospitalmortality', 'actualiculos'], axis=1, inplace=True)\n",
    "\n",
    "x_train = x_mapper.fit_transform(input_train).astype('float32')\n",
    "x_val = x_mapper.transform(input_val).astype('float32')\n",
    "\n",
    "train = (x_train, y_train)\n",
    "val = (x_val, y_val)\n",
    "\n",
    "# We don't need to transform the test labels\n",
    "durations_test, events_test = get_target(input_test)\n",
    "\n",
    "input_test.drop(['uniquepid', 'patienthealthsystemstayid', 'actualhospitalmortality', 'actualiculos'], axis=1, inplace=True)\n",
    "\n",
    "x_test = x_mapper.transform(input_test).astype('float32')"
   ]
  },
  {
   "cell_type": "markdown",
   "id": "2cf9be28",
   "metadata": {},
   "source": [
    "# Standard Logistic Hazard"
   ]
  },
  {
   "cell_type": "code",
   "execution_count": 76,
   "id": "b98d9125",
   "metadata": {},
   "outputs": [],
   "source": [
    "in_features = x_train.shape[1]\n",
    "num_nodes = [3*in_features, 5*in_features, 3*in_features]\n",
    "out_features = 10\n",
    "batch_norm = False\n",
    "dropout = 0.0\n",
    "output_bias = False\n",
    "\n",
    "net = tt.practical.MLPVanilla(in_features, num_nodes, out_features, batch_norm,\n",
    "                              dropout, output_bias=output_bias)"
   ]
  },
  {
   "cell_type": "code",
   "execution_count": 77,
   "id": "6ff8787b",
   "metadata": {},
   "outputs": [],
   "source": [
    "model = LogisticHazard(net, tt.optim.Adam(0.01), duration_index=labtrans.cuts)"
   ]
  },
  {
   "cell_type": "code",
   "execution_count": 78,
   "id": "c5557aae",
   "metadata": {},
   "outputs": [],
   "source": [
    "batch_size = 256\n",
    "epochs = 100\n",
    "callbacks = [tt.cb.EarlyStopping()]"
   ]
  },
  {
   "cell_type": "code",
   "execution_count": 79,
   "id": "3c8a0500",
   "metadata": {},
   "outputs": [
    {
     "name": "stdout",
     "output_type": "stream",
     "text": [
      "0:\t[1s / 1s],\t\ttrain_loss: 0.3757,\tval_loss: 0.3274\n",
      "1:\t[1s / 2s],\t\ttrain_loss: 0.3281,\tval_loss: 0.3202\n",
      "2:\t[1s / 3s],\t\ttrain_loss: 0.3176,\tval_loss: 0.3209\n",
      "3:\t[1s / 4s],\t\ttrain_loss: 0.3169,\tval_loss: 0.3174\n",
      "4:\t[0s / 5s],\t\ttrain_loss: 0.3140,\tval_loss: 0.3130\n",
      "5:\t[0s / 6s],\t\ttrain_loss: 0.3158,\tval_loss: 0.3220\n",
      "6:\t[1s / 7s],\t\ttrain_loss: 0.3140,\tval_loss: 0.3173\n",
      "7:\t[1s / 8s],\t\ttrain_loss: 0.3114,\tval_loss: 0.3140\n",
      "8:\t[1s / 10s],\t\ttrain_loss: 0.3100,\tval_loss: 0.3133\n",
      "9:\t[1s / 11s],\t\ttrain_loss: 0.3165,\tval_loss: 0.3178\n",
      "10:\t[0s / 12s],\t\ttrain_loss: 0.3111,\tval_loss: 0.3144\n",
      "11:\t[0s / 13s],\t\ttrain_loss: 0.3079,\tval_loss: 0.3195\n",
      "12:\t[1s / 14s],\t\ttrain_loss: 0.3059,\tval_loss: 0.3187\n",
      "13:\t[1s / 15s],\t\ttrain_loss: 0.3055,\tval_loss: 0.3173\n",
      "14:\t[2s / 17s],\t\ttrain_loss: 0.3028,\tval_loss: 0.3189\n"
     ]
    }
   ],
   "source": [
    "log = model.fit(x_train, y_train, batch_size, epochs, callbacks, val_data=val)"
   ]
  },
  {
   "cell_type": "code",
   "execution_count": 80,
   "id": "f4fe4002",
   "metadata": {},
   "outputs": [
    {
     "data": {
      "image/png": "[encoded data removed]",
      "text/plain": [
       "<Figure size 432x288 with 1 Axes>"
      ]
     },
     "metadata": {},
     "output_type": "display_data"
    }
   ],
   "source": [
    "_ = log.plot()"
   ]
  },
  {
   "cell_type": "code",
   "execution_count": 81,
   "id": "cdadf21b",
   "metadata": {},
   "outputs": [],
   "source": [
    "surv = model.predict_surv_df(x_test)"
   ]
  },
  {
   "cell_type": "code",
   "execution_count": 82,
   "id": "dce1e682",
   "metadata": {},
   "outputs": [
    {
     "data": {
      "image/png": "[encoded data removed]",
      "text/plain": [
       "<Figure size 432x288 with 1 Axes>"
      ]
     },
     "metadata": {},
     "output_type": "display_data"
    }
   ],
   "source": [
    "surv.iloc[:, :5].plot(drawstyle='steps-post')\n",
    "plt.ylabel('S(t | x)')\n",
    "_ = plt.xlabel('Time')"
   ]
  },
  {
   "cell_type": "code",
   "execution_count": 83,
   "id": "d4ebca55",
   "metadata": {},
   "outputs": [],
   "source": [
    "surv = model.interpolate(10).predict_surv_df(x_test)"
   ]
  },
  {
   "cell_type": "code",
   "execution_count": 84,
   "id": "28eaa0bf",
   "metadata": {},
   "outputs": [
    {
     "data": {
      "image/png": "[encoded data removed]",
      "text/plain": [
       "<Figure size 432x288 with 1 Axes>"
      ]
     },
     "metadata": {},
     "output_type": "display_data"
    }
   ],
   "source": [
    "surv.iloc[:, :5].plot(drawstyle='steps-post')\n",
    "plt.ylabel('S(t | x)')\n",
    "_ = plt.xlabel('Time')"
   ]
  },
  {
   "cell_type": "code",
   "execution_count": 85,
   "id": "143b2db1",
   "metadata": {},
   "outputs": [],
   "source": [
    "ev = EvalSurv(surv, durations_test, events_test, censor_surv='km')"
   ]
  },
  {
   "cell_type": "code",
   "execution_count": 86,
   "id": "4980e02e",
   "metadata": {},
   "outputs": [
    {
     "data": {
      "text/plain": [
       "0.8300515475726821"
      ]
     },
     "execution_count": 86,
     "metadata": {},
     "output_type": "execute_result"
    }
   ],
   "source": [
    "ev.concordance_td()"
   ]
  },
  {
   "cell_type": "code",
   "execution_count": 87,
   "id": "3cadcdab",
   "metadata": {},
   "outputs": [
    {
     "data": {
      "text/plain": [
       "0.12744728364244237"
      ]
     },
     "execution_count": 87,
     "metadata": {},
     "output_type": "execute_result"
    }
   ],
   "source": [
    "time_grid = np.linspace(durations_test.min(), durations_test.max(), 100)\n",
    "ev.integrated_brier_score(time_grid)"
   ]
  },
  {
   "cell_type": "code",
   "execution_count": 88,
   "id": "708dded9",
   "metadata": {},
   "outputs": [
    {
     "data": {
      "text/plain": [
       "0.3990712774212161"
      ]
     },
     "execution_count": 88,
     "metadata": {},
     "output_type": "execute_result"
    }
   ],
   "source": [
    "ev.integrated_nbll(time_grid)"
   ]
  },
  {
   "cell_type": "markdown",
   "id": "8aea71c4",
   "metadata": {},
   "source": [
    "# PMF"
   ]
  },
  {
   "cell_type": "code",
   "execution_count": 6,
   "id": "1271cc10",
   "metadata": {},
   "outputs": [],
   "source": [
    "from pycox.models import PMF"
   ]
  },
  {
   "cell_type": "code",
   "execution_count": 7,
   "id": "3df4f610",
   "metadata": {},
   "outputs": [
    {
     "name": "stderr",
     "output_type": "stream",
     "text": [
      "/var/folders/rb/zrr_wqjs59v2n19lg6kssgnw0000gr/T/ipykernel_97758/3067698293.py:53: SettingWithCopyWarning: \n",
      "A value is trying to be set on a copy of a slice from a DataFrame\n",
      "\n",
      "See the caveats in the documentation: https://pandas.pydata.org/pandas-docs/stable/user_guide/indexing.html#returning-a-view-versus-a-copy\n",
      "  input_train.drop(['uniquepid', 'patienthealthsystemstayid', 'actualhospitalmortality', 'actualiculos'], axis=1, inplace=True)\n",
      "/var/folders/rb/zrr_wqjs59v2n19lg6kssgnw0000gr/T/ipykernel_97758/3067698293.py:54: SettingWithCopyWarning: \n",
      "A value is trying to be set on a copy of a slice from a DataFrame\n",
      "\n",
      "See the caveats in the documentation: https://pandas.pydata.org/pandas-docs/stable/user_guide/indexing.html#returning-a-view-versus-a-copy\n",
      "  input_val.drop(['uniquepid', 'patienthealthsystemstayid', 'actualhospitalmortality', 'actualiculos'], axis=1, inplace=True)\n",
      "/var/folders/rb/zrr_wqjs59v2n19lg6kssgnw0000gr/T/ipykernel_97758/3067698293.py:65: SettingWithCopyWarning: \n",
      "A value is trying to be set on a copy of a slice from a DataFrame\n",
      "\n",
      "See the caveats in the documentation: https://pandas.pydata.org/pandas-docs/stable/user_guide/indexing.html#returning-a-view-versus-a-copy\n",
      "  input_test.drop(['uniquepid', 'patienthealthsystemstayid', 'actualhospitalmortality', 'actualiculos'], axis=1, inplace=True)\n"
     ]
    }
   ],
   "source": [
    "\n",
    "sample_labels = labels.loc[list(set(list(data.index.get_level_values('patient'))))]\n",
    "\n",
    "df_test = sample_labels.sample(frac=0.2)\n",
    "df_train = sample_labels.drop(df_test.index)\n",
    "df_val = sample_labels.sample(frac=0.2)\n",
    "df_train = sample_labels.drop(df_val.index)\n",
    "\n",
    "cols_standardize = ['age', 'height', 'weight']\n",
    "cols_leave = ['gender', 'hour', 'eyes', 'motor', 'verbal',\n",
    "       'ethnicity_BLACK/AFRICAN AMERICAN', 'ethnicity_OTHER',\n",
    "       'ethnicity_UNKNOWN', 'ethnicity_WHITE',\n",
    "       'ethnicity_WHITE - OTHER EUROPEAN', 'ethnicity_misc',\n",
    "       'first_careunit_Cardiac Vascular Intensive Care Unit (CVICU)',\n",
    "       'first_careunit_Coronary Care Unit (CCU)',\n",
    "       'first_careunit_Medical Intensive Care Unit (MICU)',\n",
    "       'first_careunit_Medical/Surgical Intensive Care Unit (MICU/SICU)',\n",
    "       'first_careunit_Neuro Intermediate', 'first_careunit_Neuro Stepdown',\n",
    "       'first_careunit_Neuro Surgical Intensive Care Unit (Neuro SICU)',\n",
    "       'first_careunit_Surgical Intensive Care Unit (SICU)',\n",
    "       'first_careunit_Trauma SICU (TSICU)',\n",
    "       'admission_location_EMERGENCY ROOM',\n",
    "       'admission_location_PHYSICIAN REFERRAL',\n",
    "       'admission_location_PROCEDURE SITE',\n",
    "       'admission_location_TRANSFER FROM HOSPITAL',\n",
    "       'admission_location_TRANSFER FROM SKILLED NURSING FACILITY',\n",
    "       'admission_location_WALK-IN/SELF REFERRAL', 'admission_location_misc',\n",
    "       'insurance_Medicaid', 'insurance_Medicare', 'insurance_Other']\n",
    "\n",
    "standardize = [([col], StandardScaler()) for col in cols_standardize]\n",
    "leave = [(col, None) for col in cols_leave]\n",
    "\n",
    "x_mapper = DataFrameMapper(standardize + leave)\n",
    "\n",
    "st = set(list(df_val.index.get_level_values('patient')))\n",
    "val_index = [i for i, e in enumerate(list(set(list(data.index.get_level_values('patient'))))) if e in st]\n",
    "st = set(list(df_train.index.get_level_values('patient')))\n",
    "train_index = [i for i, e in enumerate(list(set(list(data.index.get_level_values('patient'))))) if e in st]\n",
    "st = set(list(df_test.index.get_level_values('patient')))\n",
    "test_index = [i for i, e in enumerate(list(set(list(data.index.get_level_values('patient'))))) if e in st]\n",
    "\n",
    "input_train = data.iloc[list(train_index)]\n",
    "input_val = data.iloc[val_index]\n",
    "input_test = data.iloc[test_index]\n",
    "\n",
    "num_durations = 10\n",
    "labtrans = PMF.label_transform(num_durations)\n",
    "\n",
    "get_target = lambda df: (df['actualiculos'].values.astype('float32'), df['actualhospitalmortality'].values.astype('int32'))\n",
    "\n",
    "y_train = labtrans.fit_transform(*get_target(input_train))\n",
    "y_val = labtrans.transform(*get_target(input_val))\n",
    "\n",
    "input_train.drop(['uniquepid', 'patienthealthsystemstayid', 'actualhospitalmortality', 'actualiculos'], axis=1, inplace=True)\n",
    "input_val.drop(['uniquepid', 'patienthealthsystemstayid', 'actualhospitalmortality', 'actualiculos'], axis=1, inplace=True)\n",
    "\n",
    "x_train = x_mapper.fit_transform(input_train).astype('float32')\n",
    "x_val = x_mapper.transform(input_val).astype('float32')\n",
    "\n",
    "val = x_val, y_val\n",
    "\n",
    "# We don't need to transform the test labels\n",
    "durations_test, events_test = get_target(input_test)\n",
    "durations_test = labtrans.transform(*get_target(input_test))[0]\n",
    "\n",
    "input_test.drop(['uniquepid', 'patienthealthsystemstayid', 'actualhospitalmortality', 'actualiculos'], axis=1, inplace=True)\n",
    "\n",
    "x_test = x_mapper.transform(input_test).astype('float32')\n",
    "\n",
    "train = (x_train, y_train)\n",
    "val = (x_val, y_val)"
   ]
  },
  {
   "cell_type": "code",
   "execution_count": 8,
   "id": "c130b2ce",
   "metadata": {},
   "outputs": [],
   "source": [
    "in_features = x_train.shape[1]\n",
    "num_nodes = [3*in_features, 5*in_features, 3*in_features]\n",
    "out_features = labtrans.out_features\n",
    "batch_norm = False\n",
    "dropout = 0.0\n",
    "output_bias = False\n",
    "\n",
    "net = tt.practical.MLPVanilla(in_features, num_nodes, out_features, batch_norm,\n",
    "                              dropout, output_bias=output_bias)"
   ]
  },
  {
   "cell_type": "code",
   "execution_count": 9,
   "id": "3edecfbd",
   "metadata": {},
   "outputs": [],
   "source": [
    "model = PMF(net, tt.optim.Adam, duration_index=labtrans.cuts)"
   ]
  },
  {
   "cell_type": "code",
   "execution_count": 10,
   "id": "5bc9c0da",
   "metadata": {},
   "outputs": [
    {
     "data": {
      "image/png": "[encoded data removed]",
      "text/plain": [
       "<Figure size 432x288 with 1 Axes>"
      ]
     },
     "metadata": {},
     "output_type": "display_data"
    }
   ],
   "source": [
    "batch_size = 256\n",
    "lr_finder = model.lr_finder(x_train, y_train, batch_size, tolerance=4)\n",
    "_ = lr_finder.plot()"
   ]
  },
  {
   "cell_type": "code",
   "execution_count": 11,
   "id": "6b176733",
   "metadata": {},
   "outputs": [
    {
     "data": {
      "text/plain": [
       "0.002595024211399749"
      ]
     },
     "execution_count": 11,
     "metadata": {},
     "output_type": "execute_result"
    }
   ],
   "source": [
    "lr_finder.get_best_lr()"
   ]
  },
  {
   "cell_type": "code",
   "execution_count": 12,
   "id": "f20c2d06",
   "metadata": {},
   "outputs": [],
   "source": [
    "model.optimizer.set_lr(lr_finder.get_best_lr())"
   ]
  },
  {
   "cell_type": "code",
   "execution_count": 13,
   "id": "5ed85e2c",
   "metadata": {},
   "outputs": [],
   "source": [
    "callbacks = [tt.cb.EarlyStopping(patience=10)]\n",
    "epochs = 100\n",
    "verbose = True"
   ]
  },
  {
   "cell_type": "code",
   "execution_count": 14,
   "id": "3b38dad7",
   "metadata": {},
   "outputs": [
    {
     "name": "stdout",
     "output_type": "stream",
     "text": [
      "0:\t[1s / 1s],\t\ttrain_loss: 0.3539,\tval_loss: 0.3292\n",
      "1:\t[1s / 2s],\t\ttrain_loss: 0.3224,\tval_loss: 0.3194\n",
      "2:\t[1s / 3s],\t\ttrain_loss: 0.3204,\tval_loss: 0.3174\n",
      "3:\t[1s / 4s],\t\ttrain_loss: 0.3155,\tval_loss: 0.3177\n",
      "4:\t[1s / 5s],\t\ttrain_loss: 0.3129,\tval_loss: 0.3167\n",
      "5:\t[0s / 6s],\t\ttrain_loss: 0.3117,\tval_loss: 0.3144\n",
      "6:\t[0s / 7s],\t\ttrain_loss: 0.3097,\tval_loss: 0.3150\n",
      "7:\t[1s / 8s],\t\ttrain_loss: 0.3080,\tval_loss: 0.3155\n",
      "8:\t[1s / 10s],\t\ttrain_loss: 0.3060,\tval_loss: 0.3224\n",
      "9:\t[1s / 12s],\t\ttrain_loss: 0.3040,\tval_loss: 0.3172\n",
      "10:\t[0s / 13s],\t\ttrain_loss: 0.3026,\tval_loss: 0.3168\n",
      "11:\t[1s / 14s],\t\ttrain_loss: 0.3001,\tval_loss: 0.3187\n",
      "12:\t[0s / 15s],\t\ttrain_loss: 0.2972,\tval_loss: 0.3180\n",
      "13:\t[0s / 16s],\t\ttrain_loss: 0.2955,\tval_loss: 0.3214\n",
      "14:\t[0s / 17s],\t\ttrain_loss: 0.2948,\tval_loss: 0.3207\n",
      "15:\t[2s / 19s],\t\ttrain_loss: 0.2902,\tval_loss: 0.3288\n"
     ]
    }
   ],
   "source": [
    "log = model.fit(x_train, y_train, batch_size, epochs, callbacks, verbose,\n",
    "                val_data=val, val_batch_size=batch_size)"
   ]
  },
  {
   "cell_type": "code",
   "execution_count": 15,
   "id": "6dc7ffbe",
   "metadata": {},
   "outputs": [
    {
     "data": {
      "image/png": "[encoded data removed]",
      "text/plain": [
       "<Figure size 432x288 with 1 Axes>"
      ]
     },
     "metadata": {},
     "output_type": "display_data"
    }
   ],
   "source": [
    "_ = log.plot()"
   ]
  },
  {
   "cell_type": "code",
   "execution_count": 16,
   "id": "f30e49f8",
   "metadata": {},
   "outputs": [],
   "source": [
    "surv = model.predict_surv_df(x_test)"
   ]
  },
  {
   "cell_type": "code",
   "execution_count": 17,
   "id": "37b02d5a",
   "metadata": {},
   "outputs": [
    {
     "data": {
      "image/png": "[encoded data removed]",
      "text/plain": [
       "<Figure size 432x288 with 1 Axes>"
      ]
     },
     "metadata": {},
     "output_type": "display_data"
    }
   ],
   "source": [
    "surv.iloc[:, :5].plot(drawstyle='steps-post')\n",
    "plt.ylabel('S(t | x)')\n",
    "_ = plt.xlabel('Time')"
   ]
  },
  {
   "cell_type": "code",
   "execution_count": 18,
   "id": "96484078",
   "metadata": {},
   "outputs": [],
   "source": [
    "surv = model.interpolate(10).predict_surv_df(x_test)"
   ]
  },
  {
   "cell_type": "code",
   "execution_count": 19,
   "id": "af6127c5",
   "metadata": {},
   "outputs": [
    {
     "data": {
      "image/png": "[encoded data removed]",
      "text/plain": [
       "<Figure size 432x288 with 1 Axes>"
      ]
     },
     "metadata": {},
     "output_type": "display_data"
    }
   ],
   "source": [
    "surv.iloc[:, :5].plot(drawstyle='steps-post')\n",
    "plt.ylabel('S(t | x)')\n",
    "_ = plt.xlabel('Time')"
   ]
  },
  {
   "cell_type": "code",
   "execution_count": 20,
   "id": "5e11f032",
   "metadata": {},
   "outputs": [],
   "source": [
    "ev = EvalSurv(surv, durations_test, events_test, censor_surv='km')"
   ]
  },
  {
   "cell_type": "code",
   "execution_count": 21,
   "id": "51c70599",
   "metadata": {},
   "outputs": [
    {
     "name": "stderr",
     "output_type": "stream",
     "text": [
      "OMP: Info #276: omp_set_nested routine deprecated, please use omp_set_max_active_levels instead.\n"
     ]
    },
    {
     "data": {
      "text/plain": [
       "0.58968576711763"
      ]
     },
     "execution_count": 21,
     "metadata": {},
     "output_type": "execute_result"
    }
   ],
   "source": [
    "ev.concordance_td('antolini')"
   ]
  },
  {
   "cell_type": "code",
   "execution_count": 22,
   "id": "ca013f7d",
   "metadata": {},
   "outputs": [
    {
     "data": {
      "image/png": "[encoded data removed]",
      "text/plain": [
       "<Figure size 432x288 with 1 Axes>"
      ]
     },
     "metadata": {},
     "output_type": "display_data"
    }
   ],
   "source": [
    "input_test = data.iloc[test_index]\n",
    "durations_test, events_test = get_target(input_test)\n",
    "ev = EvalSurv(surv, durations_test, events_test, censor_surv='km')\n",
    "time_grid = np.linspace(durations_test.min(), durations_test.max(), 100)\n",
    "ev.brier_score(time_grid).plot()\n",
    "plt.ylabel('Brier score')\n",
    "_ = plt.xlabel('Time')"
   ]
  },
  {
   "cell_type": "code",
   "execution_count": 23,
   "id": "051c5a2a",
   "metadata": {},
   "outputs": [
    {
     "data": {
      "text/plain": [
       "0.12570636640637584"
      ]
     },
     "execution_count": 23,
     "metadata": {},
     "output_type": "execute_result"
    }
   ],
   "source": [
    "ev.integrated_brier_score(time_grid) "
   ]
  },
  {
   "cell_type": "code",
   "execution_count": 24,
   "id": "a80ba17f",
   "metadata": {},
   "outputs": [
    {
     "data": {
      "text/plain": [
       "0.38870134731611805"
      ]
     },
     "execution_count": 24,
     "metadata": {},
     "output_type": "execute_result"
    }
   ],
   "source": [
    "ev.integrated_nbll(time_grid) "
   ]
  },
  {
   "cell_type": "markdown",
   "id": "9a1573a9",
   "metadata": {},
   "source": [
    "# DeepHit"
   ]
  },
  {
   "cell_type": "code",
   "execution_count": 239,
   "id": "188ac301",
   "metadata": {},
   "outputs": [],
   "source": [
    "from pycox.models import DeepHitSingle"
   ]
  },
  {
   "cell_type": "code",
   "execution_count": 25,
   "id": "2d71c5ee",
   "metadata": {},
   "outputs": [
    {
     "name": "stderr",
     "output_type": "stream",
     "text": [
      "/var/folders/rb/zrr_wqjs59v2n19lg6kssgnw0000gr/T/ipykernel_97758/2958440053.py:53: SettingWithCopyWarning: \n",
      "A value is trying to be set on a copy of a slice from a DataFrame\n",
      "\n",
      "See the caveats in the documentation: https://pandas.pydata.org/pandas-docs/stable/user_guide/indexing.html#returning-a-view-versus-a-copy\n",
      "  input_train.drop(['uniquepid', 'patienthealthsystemstayid', 'actualhospitalmortality', 'actualiculos'], axis=1, inplace=True)\n",
      "/var/folders/rb/zrr_wqjs59v2n19lg6kssgnw0000gr/T/ipykernel_97758/2958440053.py:54: SettingWithCopyWarning: \n",
      "A value is trying to be set on a copy of a slice from a DataFrame\n",
      "\n",
      "See the caveats in the documentation: https://pandas.pydata.org/pandas-docs/stable/user_guide/indexing.html#returning-a-view-versus-a-copy\n",
      "  input_val.drop(['uniquepid', 'patienthealthsystemstayid', 'actualhospitalmortality', 'actualiculos'], axis=1, inplace=True)\n",
      "/var/folders/rb/zrr_wqjs59v2n19lg6kssgnw0000gr/T/ipykernel_97758/2958440053.py:65: SettingWithCopyWarning: \n",
      "A value is trying to be set on a copy of a slice from a DataFrame\n",
      "\n",
      "See the caveats in the documentation: https://pandas.pydata.org/pandas-docs/stable/user_guide/indexing.html#returning-a-view-versus-a-copy\n",
      "  input_test.drop(['uniquepid', 'patienthealthsystemstayid', 'actualhospitalmortality', 'actualiculos'], axis=1, inplace=True)\n"
     ]
    }
   ],
   "source": [
    "\n",
    "sample_labels = labels.loc[list(set(list(data.index.get_level_values('patient'))))]\n",
    "\n",
    "df_test = sample_labels.sample(frac=0.2)\n",
    "df_train = sample_labels.drop(df_test.index)\n",
    "df_val = sample_labels.sample(frac=0.2)\n",
    "df_train = sample_labels.drop(df_val.index)\n",
    "\n",
    "cols_standardize = ['age', 'height', 'weight']\n",
    "cols_leave = ['gender', 'hour', 'eyes', 'motor', 'verbal',\n",
    "       'ethnicity_BLACK/AFRICAN AMERICAN', 'ethnicity_OTHER',\n",
    "       'ethnicity_UNKNOWN', 'ethnicity_WHITE',\n",
    "       'ethnicity_WHITE - OTHER EUROPEAN', 'ethnicity_misc',\n",
    "       'first_careunit_Cardiac Vascular Intensive Care Unit (CVICU)',\n",
    "       'first_careunit_Coronary Care Unit (CCU)',\n",
    "       'first_careunit_Medical Intensive Care Unit (MICU)',\n",
    "       'first_careunit_Medical/Surgical Intensive Care Unit (MICU/SICU)',\n",
    "       'first_careunit_Neuro Intermediate', 'first_careunit_Neuro Stepdown',\n",
    "       'first_careunit_Neuro Surgical Intensive Care Unit (Neuro SICU)',\n",
    "       'first_careunit_Surgical Intensive Care Unit (SICU)',\n",
    "       'first_careunit_Trauma SICU (TSICU)',\n",
    "       'admission_location_EMERGENCY ROOM',\n",
    "       'admission_location_PHYSICIAN REFERRAL',\n",
    "       'admission_location_PROCEDURE SITE',\n",
    "       'admission_location_TRANSFER FROM HOSPITAL',\n",
    "       'admission_location_TRANSFER FROM SKILLED NURSING FACILITY',\n",
    "       'admission_location_WALK-IN/SELF REFERRAL', 'admission_location_misc',\n",
    "       'insurance_Medicaid', 'insurance_Medicare', 'insurance_Other']\n",
    "\n",
    "standardize = [([col], StandardScaler()) for col in cols_standardize]\n",
    "leave = [(col, None) for col in cols_leave]\n",
    "\n",
    "x_mapper = DataFrameMapper(standardize + leave)\n",
    "\n",
    "st = set(list(df_val.index.get_level_values('patient')))\n",
    "val_index = [i for i, e in enumerate(list(set(list(data.index.get_level_values('patient'))))) if e in st]\n",
    "st = set(list(df_train.index.get_level_values('patient')))\n",
    "train_index = [i for i, e in enumerate(list(set(list(data.index.get_level_values('patient'))))) if e in st]\n",
    "st = set(list(df_test.index.get_level_values('patient')))\n",
    "test_index = [i for i, e in enumerate(list(set(list(data.index.get_level_values('patient'))))) if e in st]\n",
    "\n",
    "input_train = data.iloc[list(train_index)]\n",
    "input_val = data.iloc[val_index]\n",
    "input_test = data.iloc[test_index]\n",
    "\n",
    "num_durations = 10\n",
    "labtrans = DeepHitSingle.label_transform(num_durations)\n",
    "\n",
    "get_target = lambda df: (df['actualiculos'].values.astype('float32'), df['actualhospitalmortality'].values.astype('int32'))\n",
    "\n",
    "y_train = labtrans.fit_transform(*get_target(input_train))\n",
    "y_val = labtrans.transform(*get_target(input_val))\n",
    "\n",
    "input_train.drop(['uniquepid', 'patienthealthsystemstayid', 'actualhospitalmortality', 'actualiculos'], axis=1, inplace=True)\n",
    "input_val.drop(['uniquepid', 'patienthealthsystemstayid', 'actualhospitalmortality', 'actualiculos'], axis=1, inplace=True)\n",
    "\n",
    "x_train = x_mapper.fit_transform(input_train).astype('float32')\n",
    "x_val = x_mapper.transform(input_val).astype('float32')\n",
    "\n",
    "val = x_val, y_val\n",
    "\n",
    "# We don't need to transform the test labels\n",
    "durations_test, events_test = get_target(input_test)\n",
    "durations_test = labtrans.transform(*get_target(input_test))[0]\n",
    "\n",
    "input_test.drop(['uniquepid', 'patienthealthsystemstayid', 'actualhospitalmortality', 'actualiculos'], axis=1, inplace=True)\n",
    "\n",
    "x_test = x_mapper.transform(input_test).astype('float32')\n",
    "\n",
    "train = (x_train, y_train)\n",
    "val = (x_val, y_val)"
   ]
  },
  {
   "cell_type": "code",
   "execution_count": 26,
   "id": "c9a51cd4",
   "metadata": {},
   "outputs": [],
   "source": [
    "in_features = x_train.shape[1]\n",
    "num_nodes = [3*in_features, 5*in_features, 3*in_features]\n",
    "out_features = labtrans.out_features\n",
    "batch_norm = True\n",
    "dropout = 0.6\n",
    "output_bias = False\n",
    "\n",
    "net = tt.practical.MLPVanilla(in_features, num_nodes, out_features, batch_norm,\n",
    "                              dropout, output_bias=output_bias)"
   ]
  },
  {
   "cell_type": "code",
   "execution_count": 27,
   "id": "45ee0667",
   "metadata": {},
   "outputs": [],
   "source": [
    "model = DeepHitSingle(net, tt.optim.Adam, alpha=0.2, sigma=0.1, duration_index=labtrans.cuts)"
   ]
  },
  {
   "cell_type": "code",
   "execution_count": 28,
   "id": "79d54f0b",
   "metadata": {},
   "outputs": [
    {
     "data": {
      "image/png": "[encoded data removed]",
      "text/plain": [
       "<Figure size 432x288 with 1 Axes>"
      ]
     },
     "metadata": {},
     "output_type": "display_data"
    }
   ],
   "source": [
    "batch_size = 256\n",
    "lr_finder = model.lr_finder(x_train, y_train, batch_size, tolerance=4)\n",
    "_ = lr_finder.plot()"
   ]
  },
  {
   "cell_type": "code",
   "execution_count": 29,
   "id": "58f0d7b2",
   "metadata": {},
   "outputs": [
    {
     "data": {
      "text/plain": [
       "0.0001"
      ]
     },
     "execution_count": 29,
     "metadata": {},
     "output_type": "execute_result"
    }
   ],
   "source": [
    "lr_finder.get_best_lr()"
   ]
  },
  {
   "cell_type": "code",
   "execution_count": 30,
   "id": "f8339b34",
   "metadata": {},
   "outputs": [],
   "source": [
    "model.optimizer.set_lr(lr_finder.get_best_lr())"
   ]
  },
  {
   "cell_type": "code",
   "execution_count": 31,
   "id": "4dcc44c9",
   "metadata": {},
   "outputs": [],
   "source": [
    "callbacks = [tt.cb.EarlyStopping()]\n",
    "epochs = 100\n",
    "verbose = True"
   ]
  },
  {
   "cell_type": "code",
   "execution_count": 32,
   "id": "4d398a96",
   "metadata": {},
   "outputs": [
    {
     "name": "stdout",
     "output_type": "stream",
     "text": [
      "0:\t[3s / 3s],\t\ttrain_loss: 0.3319,\tval_loss: 2.0579\n",
      "1:\t[4s / 7s],\t\ttrain_loss: 0.2759,\tval_loss: 0.9621\n",
      "2:\t[3s / 11s],\t\ttrain_loss: 0.2426,\tval_loss: 1.8995\n",
      "3:\t[4s / 15s],\t\ttrain_loss: 0.2332,\tval_loss: 0.7422\n",
      "4:\t[4s / 20s],\t\ttrain_loss: 0.2059,\tval_loss: 2.7767\n",
      "5:\t[3s / 23s],\t\ttrain_loss: 0.1988,\tval_loss: 0.9688\n",
      "6:\t[3s / 26s],\t\ttrain_loss: 0.1854,\tval_loss: 1.5060\n",
      "7:\t[3s / 30s],\t\ttrain_loss: 0.1811,\tval_loss: 1.1892\n",
      "8:\t[3s / 34s],\t\ttrain_loss: 0.1806,\tval_loss: 1.5006\n",
      "9:\t[3s / 37s],\t\ttrain_loss: 0.1778,\tval_loss: 0.8500\n",
      "10:\t[3s / 41s],\t\ttrain_loss: 0.1728,\tval_loss: 0.7089\n",
      "11:\t[3s / 44s],\t\ttrain_loss: 0.1686,\tval_loss: 1.6562\n",
      "12:\t[3s / 47s],\t\ttrain_loss: 0.1627,\tval_loss: 0.8916\n",
      "13:\t[4s / 52s],\t\ttrain_loss: 0.1638,\tval_loss: 1.2277\n",
      "14:\t[3s / 55s],\t\ttrain_loss: 0.1607,\tval_loss: 0.6524\n",
      "15:\t[4s / 59s],\t\ttrain_loss: 0.1580,\tval_loss: 0.9247\n",
      "16:\t[3s / 1m:3s],\t\ttrain_loss: 0.1551,\tval_loss: 0.4404\n",
      "17:\t[3s / 1m:7s],\t\ttrain_loss: 0.1521,\tval_loss: 0.6681\n",
      "18:\t[3s / 1m:10s],\t\ttrain_loss: 0.1490,\tval_loss: 0.4333\n",
      "19:\t[3s / 1m:14s],\t\ttrain_loss: 0.1474,\tval_loss: 0.5096\n",
      "20:\t[3s / 1m:17s],\t\ttrain_loss: 0.1500,\tval_loss: 0.9151\n",
      "21:\t[3s / 1m:21s],\t\ttrain_loss: 0.1426,\tval_loss: 0.8164\n",
      "22:\t[4s / 1m:25s],\t\ttrain_loss: 0.1442,\tval_loss: 0.3003\n",
      "23:\t[2s / 1m:28s],\t\ttrain_loss: 0.1412,\tval_loss: 0.6141\n",
      "24:\t[2s / 1m:31s],\t\ttrain_loss: 0.1416,\tval_loss: 0.5656\n",
      "25:\t[2s / 1m:33s],\t\ttrain_loss: 0.1404,\tval_loss: 0.2767\n",
      "26:\t[2s / 1m:36s],\t\ttrain_loss: 0.1385,\tval_loss: 0.3758\n",
      "27:\t[2s / 1m:39s],\t\ttrain_loss: 0.1352,\tval_loss: 0.3115\n",
      "28:\t[2s / 1m:42s],\t\ttrain_loss: 0.1374,\tval_loss: 0.5568\n",
      "29:\t[3s / 1m:45s],\t\ttrain_loss: 0.1340,\tval_loss: 0.3736\n",
      "30:\t[2s / 1m:48s],\t\ttrain_loss: 0.1335,\tval_loss: 0.3629\n",
      "31:\t[2s / 1m:51s],\t\ttrain_loss: 0.1317,\tval_loss: 0.3094\n",
      "32:\t[2s / 1m:54s],\t\ttrain_loss: 0.1295,\tval_loss: 0.5335\n",
      "33:\t[2s / 1m:57s],\t\ttrain_loss: 0.1310,\tval_loss: 0.2755\n",
      "34:\t[3s / 2m:0s],\t\ttrain_loss: 0.1270,\tval_loss: 0.4251\n",
      "35:\t[2s / 2m:3s],\t\ttrain_loss: 0.1272,\tval_loss: 0.3470\n",
      "36:\t[2s / 2m:6s],\t\ttrain_loss: 0.1266,\tval_loss: 0.3978\n",
      "37:\t[3s / 2m:9s],\t\ttrain_loss: 0.1249,\tval_loss: 0.2651\n",
      "38:\t[2s / 2m:12s],\t\ttrain_loss: 0.1245,\tval_loss: 0.1141\n",
      "39:\t[2s / 2m:15s],\t\ttrain_loss: 0.1231,\tval_loss: 0.1773\n",
      "40:\t[2s / 2m:18s],\t\ttrain_loss: 0.1223,\tval_loss: 0.2104\n",
      "41:\t[3s / 2m:21s],\t\ttrain_loss: 0.1225,\tval_loss: 0.1109\n",
      "42:\t[2s / 2m:24s],\t\ttrain_loss: 0.1191,\tval_loss: 0.2976\n",
      "43:\t[3s / 2m:27s],\t\ttrain_loss: 0.1187,\tval_loss: 0.1320\n",
      "44:\t[2s / 2m:30s],\t\ttrain_loss: 0.1169,\tval_loss: 0.1334\n",
      "45:\t[2s / 2m:33s],\t\ttrain_loss: 0.1158,\tval_loss: 0.1080\n",
      "46:\t[3s / 2m:36s],\t\ttrain_loss: 0.1144,\tval_loss: 0.1091\n",
      "47:\t[3s / 2m:40s],\t\ttrain_loss: 0.1136,\tval_loss: 0.1098\n",
      "48:\t[3s / 2m:43s],\t\ttrain_loss: 0.1125,\tval_loss: 0.1079\n",
      "49:\t[3s / 2m:47s],\t\ttrain_loss: 0.1110,\tval_loss: 0.1073\n",
      "50:\t[3s / 2m:51s],\t\ttrain_loss: 0.1103,\tval_loss: 0.1028\n",
      "51:\t[3s / 2m:54s],\t\ttrain_loss: 0.1092,\tval_loss: 0.1067\n",
      "52:\t[6s / 3m:1s],\t\ttrain_loss: 0.1090,\tval_loss: 0.1066\n",
      "53:\t[3s / 3m:4s],\t\ttrain_loss: 0.1075,\tval_loss: 0.0972\n",
      "54:\t[3s / 3m:8s],\t\ttrain_loss: 0.1066,\tval_loss: 0.1002\n",
      "55:\t[3s / 3m:11s],\t\ttrain_loss: 0.1053,\tval_loss: 0.1054\n",
      "56:\t[3s / 3m:15s],\t\ttrain_loss: 0.1054,\tval_loss: 0.0939\n",
      "57:\t[3s / 3m:18s],\t\ttrain_loss: 0.1043,\tval_loss: 0.0947\n",
      "58:\t[2s / 3m:21s],\t\ttrain_loss: 0.1041,\tval_loss: 0.1025\n",
      "59:\t[2s / 3m:24s],\t\ttrain_loss: 0.1028,\tval_loss: 0.1035\n",
      "60:\t[2s / 3m:27s],\t\ttrain_loss: 0.1028,\tval_loss: 0.0990\n",
      "61:\t[2s / 3m:30s],\t\ttrain_loss: 0.1018,\tval_loss: 0.1045\n",
      "62:\t[2s / 3m:32s],\t\ttrain_loss: 0.1006,\tval_loss: 0.1037\n",
      "63:\t[3s / 3m:36s],\t\ttrain_loss: 0.0997,\tval_loss: 0.1028\n",
      "64:\t[3s / 3m:39s],\t\ttrain_loss: 0.1002,\tval_loss: 0.1026\n",
      "65:\t[3s / 3m:42s],\t\ttrain_loss: 0.0993,\tval_loss: 0.0929\n",
      "66:\t[3s / 3m:45s],\t\ttrain_loss: 0.0994,\tval_loss: 0.1029\n",
      "67:\t[3s / 3m:48s],\t\ttrain_loss: 0.0987,\tval_loss: 0.1029\n",
      "68:\t[3s / 3m:51s],\t\ttrain_loss: 0.0981,\tval_loss: 0.1031\n",
      "69:\t[3s / 3m:54s],\t\ttrain_loss: 0.0981,\tval_loss: 0.1072\n",
      "70:\t[3s / 3m:57s],\t\ttrain_loss: 0.0983,\tval_loss: 0.1029\n",
      "71:\t[3s / 4m:0s],\t\ttrain_loss: 0.0973,\tval_loss: 0.0914\n",
      "72:\t[3s / 4m:3s],\t\ttrain_loss: 0.0972,\tval_loss: 0.1007\n",
      "73:\t[2s / 4m:6s],\t\ttrain_loss: 0.0970,\tval_loss: 0.1017\n",
      "74:\t[2s / 4m:9s],\t\ttrain_loss: 0.0968,\tval_loss: 0.0923\n",
      "75:\t[2s / 4m:12s],\t\ttrain_loss: 0.0962,\tval_loss: 0.1004\n",
      "76:\t[4s / 4m:16s],\t\ttrain_loss: 0.0958,\tval_loss: 0.1000\n",
      "77:\t[3s / 4m:20s],\t\ttrain_loss: 0.0953,\tval_loss: 0.1009\n",
      "78:\t[3s / 4m:23s],\t\ttrain_loss: 0.0960,\tval_loss: 0.0961\n",
      "79:\t[2s / 4m:26s],\t\ttrain_loss: 0.0952,\tval_loss: 0.1016\n",
      "80:\t[2s / 4m:29s],\t\ttrain_loss: 0.0953,\tval_loss: 0.0980\n",
      "81:\t[3s / 4m:32s],\t\ttrain_loss: 0.0949,\tval_loss: 0.0971\n"
     ]
    }
   ],
   "source": [
    "log = model.fit(x_train, y_train, batch_size, epochs, callbacks, val_data=val)"
   ]
  },
  {
   "cell_type": "code",
   "execution_count": 33,
   "id": "a687c1a2",
   "metadata": {},
   "outputs": [
    {
     "data": {
      "image/png": "[encoded data removed]",
      "text/plain": [
       "<Figure size 432x288 with 1 Axes>"
      ]
     },
     "metadata": {},
     "output_type": "display_data"
    }
   ],
   "source": [
    "_ = log.plot()"
   ]
  },
  {
   "cell_type": "code",
   "execution_count": 34,
   "id": "4250e99b",
   "metadata": {},
   "outputs": [],
   "source": [
    "surv = model.predict_surv_df(x_test)"
   ]
  },
  {
   "cell_type": "code",
   "execution_count": 35,
   "id": "6eaf2c5c",
   "metadata": {},
   "outputs": [],
   "source": [
    "surv = model.interpolate(10).predict_surv_df(x_test)"
   ]
  },
  {
   "cell_type": "code",
   "execution_count": 36,
   "id": "3edff39e",
   "metadata": {},
   "outputs": [
    {
     "data": {
      "image/png": "[encoded data removed]",
      "text/plain": [
       "<Figure size 432x288 with 1 Axes>"
      ]
     },
     "metadata": {},
     "output_type": "display_data"
    }
   ],
   "source": [
    "surv.iloc[:, :5].plot(drawstyle='steps-post')\n",
    "plt.ylabel('S(t | x)')\n",
    "_ = plt.xlabel('Time')"
   ]
  },
  {
   "cell_type": "code",
   "execution_count": 37,
   "id": "2bf5b3a0",
   "metadata": {},
   "outputs": [],
   "source": [
    "ev = EvalSurv(surv, durations_test, events_test, censor_surv='km')"
   ]
  },
  {
   "cell_type": "code",
   "execution_count": 38,
   "id": "4056df31",
   "metadata": {},
   "outputs": [
    {
     "data": {
      "text/plain": [
       "0.7920739137918112"
      ]
     },
     "execution_count": 38,
     "metadata": {},
     "output_type": "execute_result"
    }
   ],
   "source": [
    "ev.concordance_td('antolini')"
   ]
  },
  {
   "cell_type": "code",
   "execution_count": 39,
   "id": "15371858",
   "metadata": {},
   "outputs": [],
   "source": [
    "input_test = data.iloc[test_index]\n",
    "durations_test, events_test = get_target(input_test)\n",
    "ev = EvalSurv(surv, durations_test, events_test, censor_surv='km')\n",
    "time_grid = np.linspace(durations_test.min(), durations_test.max(), 100)"
   ]
  },
  {
   "cell_type": "code",
   "execution_count": 40,
   "id": "363930fe",
   "metadata": {},
   "outputs": [
    {
     "data": {
      "text/plain": [
       "0.13658913729529615"
      ]
     },
     "execution_count": 40,
     "metadata": {},
     "output_type": "execute_result"
    }
   ],
   "source": [
    "ev.integrated_brier_score(time_grid) "
   ]
  },
  {
   "cell_type": "code",
   "execution_count": 41,
   "id": "774e4d1f",
   "metadata": {},
   "outputs": [
    {
     "data": {
      "text/plain": [
       "0.42147811506727056"
      ]
     },
     "execution_count": 41,
     "metadata": {},
     "output_type": "execute_result"
    }
   ],
   "source": [
    "ev.integrated_nbll(time_grid) "
   ]
  },
  {
   "cell_type": "code",
   "execution_count": null,
   "id": "1ad74f05",
   "metadata": {},
   "outputs": [],
   "source": [
    "dropout = [0.0, 0.1, 0.3, 0.5]\n",
    "batch_size = [32, 64, 128, 256, 512]\n",
    "nodes = [16, 32, 64]\n",
    "c = []\n",
    "for d in dropout:\n",
    "    for b in batch_size:\n",
    "        for n in nodes:\n",
    "            in_features = x_train.shape[1]\n",
    "            num_nodes = [n]*2\n",
    "            out_features = labtrans.out_features\n",
    "            batch_norm = True\n",
    "            dropout = d\n",
    "\n",
    "            net = tt.practical.MLPVanilla(in_features, num_nodes, out_features, batch_norm, dropout)\n",
    "            model = DeepHitSingle(net, tt.optim.Adam, alpha=0.2, sigma=0.1, duration_index=labtrans.cuts)\n",
    "            lr_finder = model.lr_finder(x_train, y_train, b, tolerance=3)\n",
    "            model.optimizer.set_lr(lr_finder.get_best_lr())\n",
    "            epochs = 100\n",
    "            callbacks = [tt.callbacks.EarlyStopping()]\n",
    "            log = model.fit(x_train, y_train, b, epochs, callbacks, False, val_data=val)\n",
    "            surv = model.predict_surv_df(x_test)\n",
    "            ev = EvalSurv(surv, durations_test, events_test, censor_surv='km')\n",
    "            c.append(ev.concordance_td('antolini'))"
   ]
  },
  {
   "cell_type": "markdown",
   "id": "485ffa43",
   "metadata": {},
   "source": [
    "# MTLR"
   ]
  },
  {
   "cell_type": "code",
   "execution_count": 291,
   "id": "9cd58ed0",
   "metadata": {},
   "outputs": [],
   "source": [
    "from pycox.models import MTLR"
   ]
  },
  {
   "cell_type": "code",
   "execution_count": 328,
   "id": "c2491e1d",
   "metadata": {},
   "outputs": [
    {
     "name": "stderr",
     "output_type": "stream",
     "text": [
      "/var/folders/rb/zrr_wqjs59v2n19lg6kssgnw0000gr/T/ipykernel_93342/1073199952.py:53: SettingWithCopyWarning: \n",
      "A value is trying to be set on a copy of a slice from a DataFrame\n",
      "\n",
      "See the caveats in the documentation: https://pandas.pydata.org/pandas-docs/stable/user_guide/indexing.html#returning-a-view-versus-a-copy\n",
      "  input_train.drop(['uniquepid', 'patienthealthsystemstayid', 'actualhospitalmortality', 'actualiculos'], axis=1, inplace=True)\n",
      "/var/folders/rb/zrr_wqjs59v2n19lg6kssgnw0000gr/T/ipykernel_93342/1073199952.py:54: SettingWithCopyWarning: \n",
      "A value is trying to be set on a copy of a slice from a DataFrame\n",
      "\n",
      "See the caveats in the documentation: https://pandas.pydata.org/pandas-docs/stable/user_guide/indexing.html#returning-a-view-versus-a-copy\n",
      "  input_val.drop(['uniquepid', 'patienthealthsystemstayid', 'actualhospitalmortality', 'actualiculos'], axis=1, inplace=True)\n",
      "/var/folders/rb/zrr_wqjs59v2n19lg6kssgnw0000gr/T/ipykernel_93342/1073199952.py:65: SettingWithCopyWarning: \n",
      "A value is trying to be set on a copy of a slice from a DataFrame\n",
      "\n",
      "See the caveats in the documentation: https://pandas.pydata.org/pandas-docs/stable/user_guide/indexing.html#returning-a-view-versus-a-copy\n",
      "  input_test.drop(['uniquepid', 'patienthealthsystemstayid', 'actualhospitalmortality', 'actualiculos'], axis=1, inplace=True)\n"
     ]
    }
   ],
   "source": [
    "\n",
    "sample_labels = labels.loc[list(set(list(data.index.get_level_values('patient'))))]\n",
    "\n",
    "df_test = sample_labels.sample(frac=0.2)\n",
    "df_train = sample_labels.drop(df_test.index)\n",
    "df_val = sample_labels.sample(frac=0.2)\n",
    "df_train = sample_labels.drop(df_val.index)\n",
    "\n",
    "cols_standardize = ['age', 'height', 'weight']\n",
    "cols_leave = ['gender', 'hour', 'eyes', 'motor', 'verbal',\n",
    "       'ethnicity_BLACK/AFRICAN AMERICAN', 'ethnicity_OTHER',\n",
    "       'ethnicity_UNKNOWN', 'ethnicity_WHITE',\n",
    "       'ethnicity_WHITE - OTHER EUROPEAN', 'ethnicity_misc',\n",
    "       'first_careunit_Cardiac Vascular Intensive Care Unit (CVICU)',\n",
    "       'first_careunit_Coronary Care Unit (CCU)',\n",
    "       'first_careunit_Medical Intensive Care Unit (MICU)',\n",
    "       'first_careunit_Medical/Surgical Intensive Care Unit (MICU/SICU)',\n",
    "       'first_careunit_Neuro Intermediate', 'first_careunit_Neuro Stepdown',\n",
    "       'first_careunit_Neuro Surgical Intensive Care Unit (Neuro SICU)',\n",
    "       'first_careunit_Surgical Intensive Care Unit (SICU)',\n",
    "       'first_careunit_Trauma SICU (TSICU)',\n",
    "       'admission_location_EMERGENCY ROOM',\n",
    "       'admission_location_PHYSICIAN REFERRAL',\n",
    "       'admission_location_PROCEDURE SITE',\n",
    "       'admission_location_TRANSFER FROM HOSPITAL',\n",
    "       'admission_location_TRANSFER FROM SKILLED NURSING FACILITY',\n",
    "       'admission_location_WALK-IN/SELF REFERRAL', 'admission_location_misc',\n",
    "       'insurance_Medicaid', 'insurance_Medicare', 'insurance_Other']\n",
    "\n",
    "standardize = [([col], StandardScaler()) for col in cols_standardize]\n",
    "leave = [(col, None) for col in cols_leave]\n",
    "\n",
    "x_mapper = DataFrameMapper(standardize + leave)\n",
    "\n",
    "st = set(list(df_val.index.get_level_values('patient')))\n",
    "val_index = [i for i, e in enumerate(list(set(list(data.index.get_level_values('patient'))))) if e in st]\n",
    "st = set(list(df_train.index.get_level_values('patient')))\n",
    "train_index = [i for i, e in enumerate(list(set(list(data.index.get_level_values('patient'))))) if e in st]\n",
    "st = set(list(df_test.index.get_level_values('patient')))\n",
    "test_index = [i for i, e in enumerate(list(set(list(data.index.get_level_values('patient'))))) if e in st]\n",
    "\n",
    "input_train = data.iloc[list(train_index)]\n",
    "input_val = data.iloc[val_index]\n",
    "input_test = data.iloc[test_index]\n",
    "\n",
    "num_durations = 10\n",
    "labtrans = MTLR.label_transform(num_durations)\n",
    "\n",
    "get_target = lambda df: (df['actualiculos'].values.astype('float32'), df['actualhospitalmortality'].values.astype('int32'))\n",
    "\n",
    "y_train = labtrans.fit_transform(*get_target(input_train))\n",
    "y_val = labtrans.transform(*get_target(input_val))\n",
    "\n",
    "input_train.drop(['uniquepid', 'patienthealthsystemstayid', 'actualhospitalmortality', 'actualiculos'], axis=1, inplace=True)\n",
    "input_val.drop(['uniquepid', 'patienthealthsystemstayid', 'actualhospitalmortality', 'actualiculos'], axis=1, inplace=True)\n",
    "\n",
    "x_train = x_mapper.fit_transform(input_train).astype('float32')\n",
    "x_val = x_mapper.transform(input_val).astype('float32')\n",
    "\n",
    "val = x_val, y_val\n",
    "\n",
    "# We don't need to transform the test labels\n",
    "durations_test, events_test = get_target(input_test)\n",
    "durations_test = labtrans.transform(*get_target(input_test))[0]\n",
    "\n",
    "input_test.drop(['uniquepid', 'patienthealthsystemstayid', 'actualhospitalmortality', 'actualiculos'], axis=1, inplace=True)\n",
    "\n",
    "x_test = x_mapper.transform(input_test).astype('float32')\n",
    "\n",
    "train = (x_train, y_train)\n",
    "val = (x_val, y_val)"
   ]
  },
  {
   "cell_type": "code",
   "execution_count": 332,
   "id": "4d71bc1c",
   "metadata": {},
   "outputs": [],
   "source": [
    "in_features = x_train.shape[1]\n",
    "num_nodes = [3*in_features, 5*in_features, 3*in_features]\n",
    "out_features = labtrans.out_features\n",
    "batch_norm = True\n",
    "dropout = 0.5\n",
    "output_bias = False\n",
    "\n",
    "net = tt.practical.MLPVanilla(in_features, num_nodes, out_features, batch_norm,\n",
    "                              dropout, output_bias=output_bias)"
   ]
  },
  {
   "cell_type": "code",
   "execution_count": 333,
   "id": "c807b1f4",
   "metadata": {},
   "outputs": [],
   "source": [
    "model = MTLR(net, tt.optim.Adam, duration_index=labtrans.cuts)"
   ]
  },
  {
   "cell_type": "code",
   "execution_count": 334,
   "id": "b8ca07bf",
   "metadata": {},
   "outputs": [
    {
     "data": {
      "image/png": "[encoded data removed]",
      "text/plain": [
       "<Figure size 432x288 with 1 Axes>"
      ]
     },
     "metadata": {},
     "output_type": "display_data"
    }
   ],
   "source": [
    "batch_size = 256\n",
    "lr_finder = model.lr_finder(x_train, y_train, batch_size, tolerance=6)\n",
    "_ = lr_finder.plot()"
   ]
  },
  {
   "cell_type": "code",
   "execution_count": 335,
   "id": "07be602c",
   "metadata": {},
   "outputs": [
    {
     "data": {
      "text/plain": [
       "0.007924828983539215"
      ]
     },
     "execution_count": 335,
     "metadata": {},
     "output_type": "execute_result"
    }
   ],
   "source": [
    "lr_finder.get_best_lr()"
   ]
  },
  {
   "cell_type": "code",
   "execution_count": 336,
   "id": "0ce68c22",
   "metadata": {},
   "outputs": [],
   "source": [
    "model.optimizer.set_lr(lr_finder.get_best_lr())"
   ]
  },
  {
   "cell_type": "code",
   "execution_count": 337,
   "id": "60551617",
   "metadata": {},
   "outputs": [],
   "source": [
    "callbacks = [tt.cb.EarlyStopping()]\n",
    "epochs = 100\n",
    "verbose = True"
   ]
  },
  {
   "cell_type": "code",
   "execution_count": 338,
   "id": "945102c5",
   "metadata": {},
   "outputs": [
    {
     "name": "stdout",
     "output_type": "stream",
     "text": [
      "0:\t[1s / 1s],\t\ttrain_loss: 0.4059,\tval_loss: 0.3297\n",
      "1:\t[1s / 3s],\t\ttrain_loss: 0.3513,\tval_loss: 0.3177\n",
      "2:\t[2s / 5s],\t\ttrain_loss: 0.3369,\tval_loss: 0.3134\n",
      "3:\t[2s / 8s],\t\ttrain_loss: 0.3310,\tval_loss: 0.3150\n",
      "4:\t[1s / 9s],\t\ttrain_loss: 0.3283,\tval_loss: 0.3153\n",
      "5:\t[1s / 11s],\t\ttrain_loss: 0.3273,\tval_loss: 0.3154\n",
      "6:\t[1s / 13s],\t\ttrain_loss: 0.3249,\tval_loss: 0.3115\n",
      "7:\t[1s / 15s],\t\ttrain_loss: 0.3234,\tval_loss: 0.3237\n",
      "8:\t[1s / 17s],\t\ttrain_loss: 0.3239,\tval_loss: 0.3149\n",
      "9:\t[1s / 19s],\t\ttrain_loss: 0.3242,\tval_loss: 0.3174\n",
      "10:\t[1s / 20s],\t\ttrain_loss: 0.3237,\tval_loss: 0.3090\n",
      "11:\t[1s / 22s],\t\ttrain_loss: 0.3228,\tval_loss: 0.3193\n",
      "12:\t[2s / 25s],\t\ttrain_loss: 0.3230,\tval_loss: 0.3164\n",
      "13:\t[1s / 26s],\t\ttrain_loss: 0.3226,\tval_loss: 0.3235\n",
      "14:\t[1s / 28s],\t\ttrain_loss: 0.3217,\tval_loss: 0.3183\n",
      "15:\t[1s / 30s],\t\ttrain_loss: 0.3213,\tval_loss: 0.3126\n",
      "16:\t[1s / 32s],\t\ttrain_loss: 0.3226,\tval_loss: 0.3153\n",
      "17:\t[2s / 34s],\t\ttrain_loss: 0.3203,\tval_loss: 0.3049\n",
      "18:\t[1s / 36s],\t\ttrain_loss: 0.3217,\tval_loss: 0.3094\n",
      "19:\t[1s / 38s],\t\ttrain_loss: 0.3221,\tval_loss: 0.3099\n",
      "20:\t[1s / 40s],\t\ttrain_loss: 0.3210,\tval_loss: 0.3116\n",
      "21:\t[1s / 41s],\t\ttrain_loss: 0.3216,\tval_loss: 0.3147\n",
      "22:\t[1s / 43s],\t\ttrain_loss: 0.3220,\tval_loss: 0.3095\n",
      "23:\t[1s / 45s],\t\ttrain_loss: 0.3221,\tval_loss: 0.3094\n",
      "24:\t[1s / 47s],\t\ttrain_loss: 0.3206,\tval_loss: 0.3112\n",
      "25:\t[1s / 49s],\t\ttrain_loss: 0.3219,\tval_loss: 0.3105\n",
      "26:\t[2s / 51s],\t\ttrain_loss: 0.3213,\tval_loss: 0.3142\n",
      "27:\t[1s / 53s],\t\ttrain_loss: 0.3202,\tval_loss: 0.3079\n"
     ]
    }
   ],
   "source": [
    "log = model.fit(x_train, y_train, batch_size, epochs, callbacks, val_data=val)"
   ]
  },
  {
   "cell_type": "code",
   "execution_count": 339,
   "id": "609c17c5",
   "metadata": {},
   "outputs": [
    {
     "data": {
      "image/png": "[encoded data removed]",
      "text/plain": [
       "<Figure size 432x288 with 1 Axes>"
      ]
     },
     "metadata": {},
     "output_type": "display_data"
    }
   ],
   "source": [
    "_ = log.plot()"
   ]
  },
  {
   "cell_type": "code",
   "execution_count": 340,
   "id": "9d5ceb5e",
   "metadata": {},
   "outputs": [],
   "source": [
    "surv = model.predict_surv_df(x_test)"
   ]
  },
  {
   "cell_type": "code",
   "execution_count": 341,
   "id": "4a1eed9e",
   "metadata": {},
   "outputs": [],
   "source": [
    "surv = model.interpolate(10).predict_surv_df(x_test)"
   ]
  },
  {
   "cell_type": "code",
   "execution_count": 342,
   "id": "895c2784",
   "metadata": {},
   "outputs": [
    {
     "data": {
      "image/png": "[encoded data removed]",
      "text/plain": [
       "<Figure size 432x288 with 1 Axes>"
      ]
     },
     "metadata": {},
     "output_type": "display_data"
    }
   ],
   "source": [
    "surv.iloc[:, :5].plot(drawstyle='steps-post')\n",
    "plt.ylabel('S(t | x)')\n",
    "_ = plt.xlabel('Time')"
   ]
  },
  {
   "cell_type": "code",
   "execution_count": 353,
   "id": "eb83b1fe",
   "metadata": {},
   "outputs": [],
   "source": [
    "ev = EvalSurv(surv, durations_test, events_test, censor_surv='km')"
   ]
  },
  {
   "cell_type": "code",
   "execution_count": 344,
   "id": "ae002489",
   "metadata": {},
   "outputs": [
    {
     "data": {
      "text/plain": [
       "0.7644468445547236"
      ]
     },
     "execution_count": 344,
     "metadata": {},
     "output_type": "execute_result"
    }
   ],
   "source": [
    "ev.concordance_td('antolini')"
   ]
  },
  {
   "cell_type": "code",
   "execution_count": 354,
   "id": "2459f1a4",
   "metadata": {},
   "outputs": [],
   "source": [
    "input_test = data.iloc[test_index]\n",
    "durations_test, events_test = get_target(input_test)\n",
    "ev = EvalSurv(surv, durations_test, events_test, censor_surv='km')\n",
    "time_grid = np.linspace(durations_test.min(), durations_test.max(), 100)"
   ]
  },
  {
   "cell_type": "code",
   "execution_count": 355,
   "id": "eb5f49af",
   "metadata": {},
   "outputs": [
    {
     "data": {
      "text/plain": [
       "0.12621520876989653"
      ]
     },
     "execution_count": 355,
     "metadata": {},
     "output_type": "execute_result"
    }
   ],
   "source": [
    "ev.integrated_brier_score(time_grid) "
   ]
  },
  {
   "cell_type": "code",
   "execution_count": 356,
   "id": "a6d04561",
   "metadata": {},
   "outputs": [
    {
     "data": {
      "text/plain": [
       "0.3896653623175626"
      ]
     },
     "execution_count": 356,
     "metadata": {},
     "output_type": "execute_result"
    }
   ],
   "source": [
    "ev.integrated_nbll(time_grid) "
   ]
  },
  {
   "cell_type": "markdown",
   "id": "44045068",
   "metadata": {},
   "source": [
    "# BCESurv"
   ]
  },
  {
   "cell_type": "code",
   "execution_count": 42,
   "id": "0d2c50ec",
   "metadata": {},
   "outputs": [],
   "source": [
    "from pycox.models import BCESurv"
   ]
  },
  {
   "cell_type": "code",
   "execution_count": 51,
   "id": "9ef0b6b1",
   "metadata": {},
   "outputs": [
    {
     "name": "stderr",
     "output_type": "stream",
     "text": [
      "/var/folders/rb/zrr_wqjs59v2n19lg6kssgnw0000gr/T/ipykernel_97758/2243940398.py:53: SettingWithCopyWarning: \n",
      "A value is trying to be set on a copy of a slice from a DataFrame\n",
      "\n",
      "See the caveats in the documentation: https://pandas.pydata.org/pandas-docs/stable/user_guide/indexing.html#returning-a-view-versus-a-copy\n",
      "  input_train.drop(['uniquepid', 'patienthealthsystemstayid', 'actualhospitalmortality', 'actualiculos'], axis=1, inplace=True)\n",
      "/var/folders/rb/zrr_wqjs59v2n19lg6kssgnw0000gr/T/ipykernel_97758/2243940398.py:54: SettingWithCopyWarning: \n",
      "A value is trying to be set on a copy of a slice from a DataFrame\n",
      "\n",
      "See the caveats in the documentation: https://pandas.pydata.org/pandas-docs/stable/user_guide/indexing.html#returning-a-view-versus-a-copy\n",
      "  input_val.drop(['uniquepid', 'patienthealthsystemstayid', 'actualhospitalmortality', 'actualiculos'], axis=1, inplace=True)\n",
      "/var/folders/rb/zrr_wqjs59v2n19lg6kssgnw0000gr/T/ipykernel_97758/2243940398.py:65: SettingWithCopyWarning: \n",
      "A value is trying to be set on a copy of a slice from a DataFrame\n",
      "\n",
      "See the caveats in the documentation: https://pandas.pydata.org/pandas-docs/stable/user_guide/indexing.html#returning-a-view-versus-a-copy\n",
      "  input_test.drop(['uniquepid', 'patienthealthsystemstayid', 'actualhospitalmortality', 'actualiculos'], axis=1, inplace=True)\n"
     ]
    }
   ],
   "source": [
    "sample_labels = labels.loc[list(set(list(data.index.get_level_values('patient'))))]\n",
    "\n",
    "df_test = sample_labels.sample(frac=0.2)\n",
    "df_train = sample_labels.drop(df_test.index)\n",
    "df_val = sample_labels.sample(frac=0.2)\n",
    "df_train = sample_labels.drop(df_val.index)\n",
    "\n",
    "cols_standardize = ['age', 'height', 'weight']\n",
    "cols_leave = ['gender', 'hour', 'eyes', 'motor', 'verbal',\n",
    "       'ethnicity_BLACK/AFRICAN AMERICAN', 'ethnicity_OTHER',\n",
    "       'ethnicity_UNKNOWN', 'ethnicity_WHITE',\n",
    "       'ethnicity_WHITE - OTHER EUROPEAN', 'ethnicity_misc',\n",
    "       'first_careunit_Cardiac Vascular Intensive Care Unit (CVICU)',\n",
    "       'first_careunit_Coronary Care Unit (CCU)',\n",
    "       'first_careunit_Medical Intensive Care Unit (MICU)',\n",
    "       'first_careunit_Medical/Surgical Intensive Care Unit (MICU/SICU)',\n",
    "       'first_careunit_Neuro Intermediate', 'first_careunit_Neuro Stepdown',\n",
    "       'first_careunit_Neuro Surgical Intensive Care Unit (Neuro SICU)',\n",
    "       'first_careunit_Surgical Intensive Care Unit (SICU)',\n",
    "       'first_careunit_Trauma SICU (TSICU)',\n",
    "       'admission_location_EMERGENCY ROOM',\n",
    "       'admission_location_PHYSICIAN REFERRAL',\n",
    "       'admission_location_PROCEDURE SITE',\n",
    "       'admission_location_TRANSFER FROM HOSPITAL',\n",
    "       'admission_location_TRANSFER FROM SKILLED NURSING FACILITY',\n",
    "       'admission_location_WALK-IN/SELF REFERRAL', 'admission_location_misc',\n",
    "       'insurance_Medicaid', 'insurance_Medicare', 'insurance_Other']\n",
    "\n",
    "standardize = [([col], StandardScaler()) for col in cols_standardize]\n",
    "leave = [(col, None) for col in cols_leave]\n",
    "\n",
    "x_mapper = DataFrameMapper(standardize + leave)\n",
    "\n",
    "st = set(list(df_val.index.get_level_values('patient')))\n",
    "val_index = [i for i, e in enumerate(list(set(list(data.index.get_level_values('patient'))))) if e in st]\n",
    "st = set(list(df_train.index.get_level_values('patient')))\n",
    "train_index = [i for i, e in enumerate(list(set(list(data.index.get_level_values('patient'))))) if e in st]\n",
    "st = set(list(df_test.index.get_level_values('patient')))\n",
    "test_index = [i for i, e in enumerate(list(set(list(data.index.get_level_values('patient'))))) if e in st]\n",
    "\n",
    "input_train = data.iloc[list(train_index)]\n",
    "input_val = data.iloc[val_index]\n",
    "input_test = data.iloc[test_index]\n",
    "\n",
    "n_durations = 10\n",
    "labtrans = LogisticHazard.label_transform(n_durations)\n",
    "\n",
    "get_target = lambda df: (df['actualiculos'].values.astype('float32'), df['actualhospitalmortality'].values.astype('int32'))\n",
    "y_train = labtrans.fit_transform(*get_target(input_train))\n",
    "y_val = labtrans.fit_transform(*get_target(input_val))\n",
    "y_test = labtrans.transform(*get_target(input_test))\n",
    "\n",
    "input_train.drop(['uniquepid', 'patienthealthsystemstayid', 'actualhospitalmortality', 'actualiculos'], axis=1, inplace=True)\n",
    "input_val.drop(['uniquepid', 'patienthealthsystemstayid', 'actualhospitalmortality', 'actualiculos'], axis=1, inplace=True)\n",
    "\n",
    "x_train = x_mapper.fit_transform(input_train).astype('float32')\n",
    "x_val = x_mapper.transform(input_val).astype('float32')\n",
    "\n",
    "train = tt.tuplefy(x_train, y_train)\n",
    "val = tt.tuplefy(x_val, y_val)\n",
    "\n",
    "# We don't need to transform the test labels\n",
    "durations_test, events_test = get_target(input_test)\n",
    "durations_test = labtrans.transform(*get_target(input_test))[0]\n",
    "\n",
    "input_test.drop(['uniquepid', 'patienthealthsystemstayid', 'actualhospitalmortality', 'actualiculos'], axis=1, inplace=True)\n",
    "\n",
    "x_test = x_mapper.transform(input_test).astype('float32')\n",
    "test = tt.tuplefy(x_test, y_test)"
   ]
  },
  {
   "cell_type": "code",
   "execution_count": 53,
   "id": "41411342",
   "metadata": {},
   "outputs": [],
   "source": [
    "def make_net(train, labtrans, dropout=0.0):\n",
    "    in_features = train[0].shape[1]\n",
    "    out_features = labtrans.out_features\n",
    "    num_nodes = [3*in_features, 5*in_features, 3*in_features]\n",
    "    net = tt.practical.MLPVanilla(in_features, num_nodes, out_features,\n",
    "                                  dropout=dropout)\n",
    "    return net"
   ]
  },
  {
   "cell_type": "code",
   "execution_count": 54,
   "id": "0a256b39",
   "metadata": {},
   "outputs": [],
   "source": [
    "def fit_and_predict(model_class, train, val, test, labtrans, lr=0.01, n_itp=20):\n",
    "    net = make_net(train, labtrans)\n",
    "    model = model_class(net, tt.optim.AdamWR(lr, cycle_eta_multiplier=0.8), duration_index=labtrans.cuts)\n",
    "    log = model.fit(*train, 256, 256, verbose=False, val_data=val,\n",
    "                    callbacks=[tt.cb.EarlyStoppingCycle()])\n",
    "    surv = model.interpolate(n_itp).predict_surv_df(test[0])\n",
    "    return surv, model"
   ]
  },
  {
   "cell_type": "code",
   "execution_count": 57,
   "id": "7499e6fa",
   "metadata": {},
   "outputs": [],
   "source": [
    "surv_bce, model_bce = fit_and_predict(BCESurv, train, val, test, labtrans, lr=0.0001)"
   ]
  },
  {
   "cell_type": "code",
   "execution_count": 58,
   "id": "e5150f2f",
   "metadata": {},
   "outputs": [
    {
     "data": {
      "image/png": "[encoded data removed]",
      "text/plain": [
       "<Figure size 432x288 with 1 Axes>"
      ]
     },
     "metadata": {},
     "output_type": "display_data"
    }
   ],
   "source": [
    "_ = model_bce.log.to_pandas().iloc[1:].plot()"
   ]
  },
  {
   "cell_type": "code",
   "execution_count": 59,
   "id": "9c1d85cf",
   "metadata": {},
   "outputs": [],
   "source": [
    "ev_bce_true = EvalSurv(surv_bce, durations_test, events_test, 'km')"
   ]
  },
  {
   "cell_type": "code",
   "execution_count": 60,
   "id": "b2cd749b",
   "metadata": {},
   "outputs": [
    {
     "data": {
      "text/plain": [
       "0.8223355085868335"
      ]
     },
     "execution_count": 60,
     "metadata": {},
     "output_type": "execute_result"
    }
   ],
   "source": [
    "ev.concordance_td('antolini')"
   ]
  },
  {
   "cell_type": "code",
   "execution_count": 61,
   "id": "b1646cfb",
   "metadata": {},
   "outputs": [],
   "source": [
    "time_grid = np.linspace(0, 100, 100)"
   ]
  },
  {
   "cell_type": "code",
   "execution_count": 62,
   "id": "f909f23b",
   "metadata": {},
   "outputs": [],
   "source": [
    "input_test = data.iloc[test_index]\n",
    "durations_test, events_test = get_target(input_test)\n",
    "ev = EvalSurv(surv, durations_test, events_test, censor_surv='km')\n",
    "time_grid = np.linspace(durations_test.min(), durations_test.max(), 100)"
   ]
  },
  {
   "cell_type": "code",
   "execution_count": 63,
   "id": "bc5beb2b",
   "metadata": {},
   "outputs": [
    {
     "data": {
      "text/plain": [
       "0.15660519011775104"
      ]
     },
     "execution_count": 63,
     "metadata": {},
     "output_type": "execute_result"
    }
   ],
   "source": [
    "ev.integrated_brier_score(time_grid) "
   ]
  },
  {
   "cell_type": "code",
   "execution_count": 64,
   "id": "a7fa3bc6",
   "metadata": {},
   "outputs": [
    {
     "data": {
      "text/plain": [
       "0.47327549550138154"
      ]
     },
     "execution_count": 64,
     "metadata": {},
     "output_type": "execute_result"
    }
   ],
   "source": [
    "ev.integrated_nbll(time_grid) "
   ]
  },
  {
   "cell_type": "markdown",
   "id": "109fcb58",
   "metadata": {},
   "source": [
    "# CoxTime"
   ]
  },
  {
   "cell_type": "code",
   "execution_count": 4,
   "id": "87af2cd2",
   "metadata": {},
   "outputs": [],
   "source": [
    "from pycox.models import CoxTime\n",
    "from pycox.models.cox_time import MLPVanillaCoxTime"
   ]
  },
  {
   "cell_type": "code",
   "execution_count": 16,
   "id": "044f30f8",
   "metadata": {},
   "outputs": [
    {
     "name": "stderr",
     "output_type": "stream",
     "text": [
      "/var/folders/rb/zrr_wqjs59v2n19lg6kssgnw0000gr/T/ipykernel_12715/2116763194.py:53: SettingWithCopyWarning: \n",
      "A value is trying to be set on a copy of a slice from a DataFrame\n",
      "\n",
      "See the caveats in the documentation: https://pandas.pydata.org/pandas-docs/stable/user_guide/indexing.html#returning-a-view-versus-a-copy\n",
      "  input_train.drop(['uniquepid', 'patienthealthsystemstayid', 'actualhospitalmortality', 'actualiculos'], axis=1, inplace=True)\n",
      "/var/folders/rb/zrr_wqjs59v2n19lg6kssgnw0000gr/T/ipykernel_12715/2116763194.py:54: SettingWithCopyWarning: \n",
      "A value is trying to be set on a copy of a slice from a DataFrame\n",
      "\n",
      "See the caveats in the documentation: https://pandas.pydata.org/pandas-docs/stable/user_guide/indexing.html#returning-a-view-versus-a-copy\n",
      "  input_val.drop(['uniquepid', 'patienthealthsystemstayid', 'actualhospitalmortality', 'actualiculos'], axis=1, inplace=True)\n",
      "/var/folders/rb/zrr_wqjs59v2n19lg6kssgnw0000gr/T/ipykernel_12715/2116763194.py:65: SettingWithCopyWarning: \n",
      "A value is trying to be set on a copy of a slice from a DataFrame\n",
      "\n",
      "See the caveats in the documentation: https://pandas.pydata.org/pandas-docs/stable/user_guide/indexing.html#returning-a-view-versus-a-copy\n",
      "  input_test.drop(['uniquepid', 'patienthealthsystemstayid', 'actualhospitalmortality', 'actualiculos'], axis=1, inplace=True)\n"
     ]
    }
   ],
   "source": [
    "\n",
    "sample_labels = labels.loc[list(set(list(data.index.get_level_values('patient'))))]\n",
    "\n",
    "df_test = sample_labels.sample(frac=0.2)\n",
    "df_train = sample_labels.drop(df_test.index)\n",
    "df_val = sample_labels.sample(frac=0.2)\n",
    "df_train = sample_labels.drop(df_val.index)\n",
    "\n",
    "cols_standardize = ['age', 'height', 'weight']\n",
    "cols_leave = ['gender', 'hour', 'eyes', 'motor', 'verbal',\n",
    "       'ethnicity_BLACK/AFRICAN AMERICAN', 'ethnicity_OTHER',\n",
    "       'ethnicity_UNKNOWN', 'ethnicity_WHITE',\n",
    "       'ethnicity_WHITE - OTHER EUROPEAN', 'ethnicity_misc',\n",
    "       'first_careunit_Cardiac Vascular Intensive Care Unit (CVICU)',\n",
    "       'first_careunit_Coronary Care Unit (CCU)',\n",
    "       'first_careunit_Medical Intensive Care Unit (MICU)',\n",
    "       'first_careunit_Medical/Surgical Intensive Care Unit (MICU/SICU)',\n",
    "       'first_careunit_Neuro Intermediate', 'first_careunit_Neuro Stepdown',\n",
    "       'first_careunit_Neuro Surgical Intensive Care Unit (Neuro SICU)',\n",
    "       'first_careunit_Surgical Intensive Care Unit (SICU)',\n",
    "       'first_careunit_Trauma SICU (TSICU)',\n",
    "       'admission_location_EMERGENCY ROOM',\n",
    "       'admission_location_PHYSICIAN REFERRAL',\n",
    "       'admission_location_PROCEDURE SITE',\n",
    "       'admission_location_TRANSFER FROM HOSPITAL',\n",
    "       'admission_location_TRANSFER FROM SKILLED NURSING FACILITY',\n",
    "       'admission_location_WALK-IN/SELF REFERRAL', 'admission_location_misc',\n",
    "       'insurance_Medicaid', 'insurance_Medicare', 'insurance_Other']\n",
    "\n",
    "standardize = [([col], StandardScaler()) for col in cols_standardize]\n",
    "leave = [(col, None) for col in cols_leave]\n",
    "\n",
    "x_mapper = DataFrameMapper(standardize + leave)\n",
    "\n",
    "st = set(list(df_val.index.get_level_values('patient')))\n",
    "val_index = [i for i, e in enumerate(list(set(list(data.index.get_level_values('patient'))))) if e in st]\n",
    "st = set(list(df_train.index.get_level_values('patient')))\n",
    "train_index = [i for i, e in enumerate(list(set(list(data.index.get_level_values('patient'))))) if e in st]\n",
    "st = set(list(df_test.index.get_level_values('patient')))\n",
    "test_index = [i for i, e in enumerate(list(set(list(data.index.get_level_values('patient'))))) if e in st]\n",
    "\n",
    "input_train = data.iloc[list(train_index)]\n",
    "input_val = data.iloc[val_index]\n",
    "input_test = data.iloc[test_index]\n",
    "\n",
    "num_durations = 10\n",
    "labtrans = CoxTime.label_transform()\n",
    "\n",
    "get_target = lambda df: (df['actualiculos'].values.astype('float32'), df['actualhospitalmortality'].values.astype('int32'))\n",
    "\n",
    "y_train = labtrans.fit_transform(*get_target(input_train))\n",
    "y_val = labtrans.transform(*get_target(input_val))\n",
    "\n",
    "input_train.drop(['uniquepid', 'patienthealthsystemstayid', 'actualhospitalmortality', 'actualiculos'], axis=1, inplace=True)\n",
    "input_val.drop(['uniquepid', 'patienthealthsystemstayid', 'actualhospitalmortality', 'actualiculos'], axis=1, inplace=True)\n",
    "\n",
    "x_train = x_mapper.fit_transform(input_train).astype('float32')\n",
    "x_val = x_mapper.transform(input_val).astype('float32')\n",
    "\n",
    "val = tt.tuplefy(x_val, y_val)\n",
    "\n",
    "# We don't need to transform the test labels\n",
    "durations_test, events_test = get_target(input_test)\n",
    "durations_test = labtrans.transform(*get_target(input_test))[0]\n",
    "\n",
    "input_test.drop(['uniquepid', 'patienthealthsystemstayid', 'actualhospitalmortality', 'actualiculos'], axis=1, inplace=True)\n",
    "\n",
    "x_test = x_mapper.transform(input_test).astype('float32')"
   ]
  },
  {
   "cell_type": "code",
   "execution_count": 17,
   "id": "031b87e6",
   "metadata": {},
   "outputs": [],
   "source": [
    "in_features = x_train.shape[1]\n",
    "num_nodes = [32, 32]\n",
    "out_features = labtrans.out_features\n",
    "batch_norm = True\n",
    "dropout = 0.5\n",
    "output_bias = False\n",
    "net = MLPVanillaCoxTime(in_features, num_nodes, batch_norm, dropout)"
   ]
  },
  {
   "cell_type": "code",
   "execution_count": 18,
   "id": "9e6f06bd",
   "metadata": {},
   "outputs": [],
   "source": [
    "model = CoxTime(net, tt.optim.Adam, labtrans=labtrans)"
   ]
  },
  {
   "cell_type": "code",
   "execution_count": 19,
   "id": "ef7e3770",
   "metadata": {},
   "outputs": [
    {
     "data": {
      "image/png": "[encoded data removed]",
      "text/plain": [
       "<Figure size 432x288 with 1 Axes>"
      ]
     },
     "metadata": {},
     "output_type": "display_data"
    }
   ],
   "source": [
    "batch_size = 256\n",
    "lrfinder = model.lr_finder(x_train, y_train, batch_size, tolerance=2)\n",
    "_ = lrfinder.plot()"
   ]
  },
  {
   "cell_type": "code",
   "execution_count": 20,
   "id": "9ba94c84",
   "metadata": {},
   "outputs": [
    {
     "data": {
      "text/plain": [
       "0.07390722033525823"
      ]
     },
     "execution_count": 20,
     "metadata": {},
     "output_type": "execute_result"
    }
   ],
   "source": [
    "lrfinder.get_best_lr()"
   ]
  },
  {
   "cell_type": "code",
   "execution_count": 21,
   "id": "8f432bf6",
   "metadata": {},
   "outputs": [],
   "source": [
    "model.optimizer.set_lr(lrfinder.get_best_lr())"
   ]
  },
  {
   "cell_type": "code",
   "execution_count": 22,
   "id": "de83012a",
   "metadata": {},
   "outputs": [],
   "source": [
    "callbacks = [tt.cb.EarlyStopping(patience=10)]\n",
    "epochs = 100\n",
    "verbose = True"
   ]
  },
  {
   "cell_type": "code",
   "execution_count": 23,
   "id": "d84feafc",
   "metadata": {},
   "outputs": [
    {
     "name": "stdout",
     "output_type": "stream",
     "text": [
      "0:\t[0s / 0s],\t\ttrain_loss: 0.6012,\tval_loss: 0.4893\n",
      "1:\t[0s / 0s],\t\ttrain_loss: 0.5250,\tval_loss: 0.4634\n",
      "2:\t[0s / 0s],\t\ttrain_loss: 0.4937,\tval_loss: 0.4608\n",
      "3:\t[0s / 0s],\t\ttrain_loss: 0.4902,\tval_loss: 0.4444\n",
      "4:\t[0s / 0s],\t\ttrain_loss: 0.5019,\tval_loss: 0.4833\n",
      "5:\t[0s / 1s],\t\ttrain_loss: 0.4950,\tval_loss: 0.4510\n",
      "6:\t[0s / 1s],\t\ttrain_loss: 0.4960,\tval_loss: 0.4402\n",
      "7:\t[0s / 1s],\t\ttrain_loss: 0.4787,\tval_loss: 0.4455\n",
      "8:\t[0s / 1s],\t\ttrain_loss: 0.4760,\tval_loss: 0.4483\n",
      "9:\t[0s / 1s],\t\ttrain_loss: 0.4779,\tval_loss: 0.4531\n",
      "10:\t[0s / 1s],\t\ttrain_loss: 0.4880,\tval_loss: 0.4462\n",
      "11:\t[0s / 2s],\t\ttrain_loss: 0.4808,\tval_loss: 0.4425\n",
      "12:\t[0s / 2s],\t\ttrain_loss: 0.4851,\tval_loss: 0.4361\n",
      "13:\t[0s / 2s],\t\ttrain_loss: 0.4718,\tval_loss: 0.4384\n",
      "14:\t[0s / 2s],\t\ttrain_loss: 0.4846,\tval_loss: 0.4469\n",
      "15:\t[0s / 2s],\t\ttrain_loss: 0.4802,\tval_loss: 0.4416\n",
      "16:\t[0s / 3s],\t\ttrain_loss: 0.4684,\tval_loss: 0.4494\n",
      "17:\t[0s / 3s],\t\ttrain_loss: 0.4846,\tval_loss: 0.4846\n",
      "18:\t[0s / 3s],\t\ttrain_loss: 0.4866,\tval_loss: 0.4498\n",
      "19:\t[0s / 3s],\t\ttrain_loss: 0.4670,\tval_loss: 0.4407\n",
      "20:\t[0s / 3s],\t\ttrain_loss: 0.4753,\tval_loss: 0.4326\n",
      "21:\t[0s / 3s],\t\ttrain_loss: 0.4659,\tval_loss: 0.4392\n",
      "22:\t[0s / 4s],\t\ttrain_loss: 0.4713,\tval_loss: 0.4381\n",
      "23:\t[0s / 4s],\t\ttrain_loss: 0.4638,\tval_loss: 0.4385\n",
      "24:\t[0s / 4s],\t\ttrain_loss: 0.4658,\tval_loss: 0.4702\n",
      "25:\t[0s / 4s],\t\ttrain_loss: 0.4714,\tval_loss: 0.4328\n",
      "26:\t[0s / 4s],\t\ttrain_loss: 0.4691,\tval_loss: 0.4323\n",
      "27:\t[0s / 5s],\t\ttrain_loss: 0.4708,\tval_loss: 0.4650\n",
      "28:\t[0s / 5s],\t\ttrain_loss: 0.4755,\tval_loss: 0.4434\n",
      "29:\t[0s / 5s],\t\ttrain_loss: 0.4674,\tval_loss: 0.4348\n",
      "30:\t[0s / 5s],\t\ttrain_loss: 0.4600,\tval_loss: 0.4395\n",
      "31:\t[0s / 5s],\t\ttrain_loss: 0.4534,\tval_loss: 0.4371\n",
      "32:\t[0s / 5s],\t\ttrain_loss: 0.4679,\tval_loss: 0.4412\n",
      "33:\t[0s / 5s],\t\ttrain_loss: 0.4534,\tval_loss: 0.4469\n",
      "34:\t[0s / 6s],\t\ttrain_loss: 0.4698,\tval_loss: 0.4450\n",
      "35:\t[0s / 6s],\t\ttrain_loss: 0.4732,\tval_loss: 0.4417\n",
      "36:\t[0s / 6s],\t\ttrain_loss: 0.4719,\tval_loss: 0.4317\n",
      "37:\t[0s / 6s],\t\ttrain_loss: 0.4637,\tval_loss: 0.4347\n",
      "38:\t[0s / 6s],\t\ttrain_loss: 0.4689,\tval_loss: 0.4317\n",
      "39:\t[0s / 6s],\t\ttrain_loss: 0.4688,\tval_loss: 0.4351\n",
      "40:\t[0s / 6s],\t\ttrain_loss: 0.4603,\tval_loss: 0.4249\n",
      "41:\t[0s / 7s],\t\ttrain_loss: 0.4686,\tval_loss: 0.4256\n",
      "42:\t[0s / 7s],\t\ttrain_loss: 0.4688,\tval_loss: 0.4239\n",
      "43:\t[0s / 7s],\t\ttrain_loss: 0.4575,\tval_loss: 0.4470\n",
      "44:\t[0s / 7s],\t\ttrain_loss: 0.4607,\tval_loss: 0.4413\n",
      "45:\t[0s / 7s],\t\ttrain_loss: 0.4617,\tval_loss: 0.4302\n",
      "46:\t[0s / 7s],\t\ttrain_loss: 0.4552,\tval_loss: 0.4354\n",
      "47:\t[0s / 7s],\t\ttrain_loss: 0.4726,\tval_loss: 0.4417\n",
      "48:\t[0s / 8s],\t\ttrain_loss: 0.4577,\tval_loss: 0.4333\n",
      "49:\t[0s / 8s],\t\ttrain_loss: 0.4723,\tval_loss: 0.4324\n",
      "50:\t[0s / 8s],\t\ttrain_loss: 0.4641,\tval_loss: 0.4374\n",
      "51:\t[0s / 8s],\t\ttrain_loss: 0.4655,\tval_loss: 0.4383\n",
      "52:\t[0s / 8s],\t\ttrain_loss: 0.4628,\tval_loss: 0.4372\n"
     ]
    }
   ],
   "source": [
    "log = model.fit(x_train, y_train, batch_size, epochs, callbacks, verbose,\n",
    "                val_data=val.repeat(10).cat())"
   ]
  },
  {
   "cell_type": "code",
   "execution_count": 24,
   "id": "968c61be",
   "metadata": {},
   "outputs": [
    {
     "data": {
      "image/png": "[encoded data removed]",
      "text/plain": [
       "<Figure size 432x288 with 1 Axes>"
      ]
     },
     "metadata": {},
     "output_type": "display_data"
    }
   ],
   "source": [
    "_ = log.plot()"
   ]
  },
  {
   "cell_type": "code",
   "execution_count": 25,
   "id": "3216c4aa",
   "metadata": {},
   "outputs": [],
   "source": [
    "_ = model.compute_baseline_hazards()"
   ]
  },
  {
   "cell_type": "code",
   "execution_count": null,
   "id": "eb816744",
   "metadata": {},
   "outputs": [],
   "source": [
    "surv = model.predict_surv_df(x_test)"
   ]
  },
  {
   "cell_type": "code",
   "execution_count": null,
   "id": "8808208e",
   "metadata": {},
   "outputs": [],
   "source": [
    "surv.iloc[:, :5].plot()\n",
    "plt.ylabel('S(t | x)')\n",
    "_ = plt.xlabel('Time')"
   ]
  },
  {
   "cell_type": "code",
   "execution_count": null,
   "id": "1273df62",
   "metadata": {},
   "outputs": [],
   "source": [
    "ev = EvalSurv(surv, durations_test, events_test, censor_surv='km')\n",
    "ev.concordance_td('antolini')"
   ]
  },
  {
   "cell_type": "code",
   "execution_count": null,
   "id": "343368b1",
   "metadata": {},
   "outputs": [],
   "source": [
    "input_test = data.iloc[test_index]\n",
    "durations_test, events_test = get_target(input_test)\n",
    "ev = EvalSurv(surv, durations_test, events_test, censor_surv='km')\n",
    "time_grid = np.linspace(durations_test.min(), durations_test.max(), 100)"
   ]
  },
  {
   "cell_type": "code",
   "execution_count": null,
   "id": "edd420e5",
   "metadata": {},
   "outputs": [],
   "source": [
    "ev.integrated_brier_score(time_grid) "
   ]
  },
  {
   "cell_type": "code",
   "execution_count": null,
   "id": "e3ba5880",
   "metadata": {},
   "outputs": [],
   "source": [
    "ev.integrated_nbll(time_grid) "
   ]
  },
  {
   "cell_type": "markdown",
   "id": "13a3fea4",
   "metadata": {},
   "source": [
    "# CoxCC"
   ]
  },
  {
   "cell_type": "code",
   "execution_count": 4,
   "id": "dd16a941",
   "metadata": {},
   "outputs": [],
   "source": [
    "from pycox.models import CoxCC"
   ]
  },
  {
   "cell_type": "code",
   "execution_count": 7,
   "id": "3b1dadf5",
   "metadata": {},
   "outputs": [
    {
     "name": "stderr",
     "output_type": "stream",
     "text": [
      "/var/folders/rb/zrr_wqjs59v2n19lg6kssgnw0000gr/T/ipykernel_7996/3432915554.py:50: SettingWithCopyWarning: \n",
      "A value is trying to be set on a copy of a slice from a DataFrame\n",
      "\n",
      "See the caveats in the documentation: https://pandas.pydata.org/pandas-docs/stable/user_guide/indexing.html#returning-a-view-versus-a-copy\n",
      "  input_train.drop(['uniquepid', 'patienthealthsystemstayid', 'actualhospitalmortality', 'actualiculos'], axis=1, inplace=True)\n",
      "/var/folders/rb/zrr_wqjs59v2n19lg6kssgnw0000gr/T/ipykernel_7996/3432915554.py:51: SettingWithCopyWarning: \n",
      "A value is trying to be set on a copy of a slice from a DataFrame\n",
      "\n",
      "See the caveats in the documentation: https://pandas.pydata.org/pandas-docs/stable/user_guide/indexing.html#returning-a-view-versus-a-copy\n",
      "  input_val.drop(['uniquepid', 'patienthealthsystemstayid', 'actualhospitalmortality', 'actualiculos'], axis=1, inplace=True)\n",
      "/var/folders/rb/zrr_wqjs59v2n19lg6kssgnw0000gr/T/ipykernel_7996/3432915554.py:61: SettingWithCopyWarning: \n",
      "A value is trying to be set on a copy of a slice from a DataFrame\n",
      "\n",
      "See the caveats in the documentation: https://pandas.pydata.org/pandas-docs/stable/user_guide/indexing.html#returning-a-view-versus-a-copy\n",
      "  input_test.drop(['uniquepid', 'patienthealthsystemstayid', 'actualhospitalmortality', 'actualiculos'], axis=1, inplace=True)\n"
     ]
    }
   ],
   "source": [
    "\n",
    "sample_labels = labels.loc[list(set(list(data.index.get_level_values('patient'))))]\n",
    "\n",
    "df_test = sample_labels.sample(frac=0.2)\n",
    "df_train = sample_labels.drop(df_test.index)\n",
    "df_val = sample_labels.sample(frac=0.2)\n",
    "df_train = sample_labels.drop(df_val.index)\n",
    "\n",
    "cols_standardize = ['age', 'height', 'weight']\n",
    "cols_leave = ['gender', 'hour', 'eyes', 'motor', 'verbal',\n",
    "       'ethnicity_BLACK/AFRICAN AMERICAN', 'ethnicity_OTHER',\n",
    "       'ethnicity_UNKNOWN', 'ethnicity_WHITE',\n",
    "       'ethnicity_WHITE - OTHER EUROPEAN', 'ethnicity_misc',\n",
    "       'first_careunit_Cardiac Vascular Intensive Care Unit (CVICU)',\n",
    "       'first_careunit_Coronary Care Unit (CCU)',\n",
    "       'first_careunit_Medical Intensive Care Unit (MICU)',\n",
    "       'first_careunit_Medical/Surgical Intensive Care Unit (MICU/SICU)',\n",
    "       'first_careunit_Neuro Intermediate', 'first_careunit_Neuro Stepdown',\n",
    "       'first_careunit_Neuro Surgical Intensive Care Unit (Neuro SICU)',\n",
    "       'first_careunit_Surgical Intensive Care Unit (SICU)',\n",
    "       'first_careunit_Trauma SICU (TSICU)',\n",
    "       'admission_location_EMERGENCY ROOM',\n",
    "       'admission_location_PHYSICIAN REFERRAL',\n",
    "       'admission_location_PROCEDURE SITE',\n",
    "       'admission_location_TRANSFER FROM HOSPITAL',\n",
    "       'admission_location_TRANSFER FROM SKILLED NURSING FACILITY',\n",
    "       'admission_location_WALK-IN/SELF REFERRAL', 'admission_location_misc',\n",
    "       'insurance_Medicaid', 'insurance_Medicare', 'insurance_Other']\n",
    "\n",
    "standardize = [([col], StandardScaler()) for col in cols_standardize]\n",
    "leave = [(col, None) for col in cols_leave]\n",
    "\n",
    "x_mapper = DataFrameMapper(standardize + leave)\n",
    "\n",
    "st = set(list(df_val.index.get_level_values('patient')))\n",
    "val_index = [i for i, e in enumerate(list(set(list(data.index.get_level_values('patient'))))) if e in st]\n",
    "st = set(list(df_train.index.get_level_values('patient')))\n",
    "train_index = [i for i, e in enumerate(list(set(list(data.index.get_level_values('patient'))))) if e in st]\n",
    "st = set(list(df_test.index.get_level_values('patient')))\n",
    "test_index = [i for i, e in enumerate(list(set(list(data.index.get_level_values('patient'))))) if e in st]\n",
    "\n",
    "input_train = data.iloc[list(train_index)]\n",
    "input_val = data.iloc[val_index]\n",
    "input_test = data.iloc[test_index]\n",
    "\n",
    "get_target = lambda df: (df['actualiculos'].values.astype('float32'), df['actualhospitalmortality'].values.astype('int32'))\n",
    "\n",
    "y_train = get_target(input_train)\n",
    "y_val = get_target(input_val)\n",
    "\n",
    "input_train.drop(['uniquepid', 'patienthealthsystemstayid', 'actualhospitalmortality', 'actualiculos'], axis=1, inplace=True)\n",
    "input_val.drop(['uniquepid', 'patienthealthsystemstayid', 'actualhospitalmortality', 'actualiculos'], axis=1, inplace=True)\n",
    "\n",
    "x_train = x_mapper.fit_transform(input_train).astype('float32')\n",
    "x_val = x_mapper.transform(input_val).astype('float32')\n",
    "\n",
    "val = tt.tuplefy(x_val, y_val)\n",
    "\n",
    "# We don't need to transform the test labels\n",
    "durations_test, events_test = get_target(input_test)\n",
    "\n",
    "input_test.drop(['uniquepid', 'patienthealthsystemstayid', 'actualhospitalmortality', 'actualiculos'], axis=1, inplace=True)\n",
    "\n",
    "x_test = x_mapper.transform(input_test).astype('float32')"
   ]
  },
  {
   "cell_type": "code",
   "execution_count": 49,
   "id": "66f329ae",
   "metadata": {},
   "outputs": [],
   "source": [
    "in_features = x_train.shape[1]\n",
    "num_nodes = [32, 32]\n",
    "out_features = 1\n",
    "batch_norm = True\n",
    "dropout = 0.5\n",
    "output_bias = False\n",
    "\n",
    "net = tt.practical.MLPVanilla(in_features, num_nodes, out_features, batch_norm,\n",
    "                              dropout, output_bias=output_bias)"
   ]
  },
  {
   "cell_type": "code",
   "execution_count": 50,
   "id": "7c5b23f1",
   "metadata": {},
   "outputs": [],
   "source": [
    "model = CoxCC(net, tt.optim.Adam)"
   ]
  },
  {
   "cell_type": "code",
   "execution_count": 51,
   "id": "0215cbff",
   "metadata": {},
   "outputs": [
    {
     "data": {
      "image/png": "[encoded data removed]",
      "text/plain": [
       "<Figure size 432x288 with 1 Axes>"
      ]
     },
     "metadata": {},
     "output_type": "display_data"
    }
   ],
   "source": [
    "batch_size = 256\n",
    "lrfinder = model.lr_finder(x_train, y_train, batch_size, tolerance=2)\n",
    "_ = lrfinder.plot()"
   ]
  },
  {
   "cell_type": "code",
   "execution_count": 52,
   "id": "63a8429b",
   "metadata": {},
   "outputs": [
    {
     "data": {
      "text/plain": [
       "0.10722672220103299"
      ]
     },
     "execution_count": 52,
     "metadata": {},
     "output_type": "execute_result"
    }
   ],
   "source": [
    "lrfinder.get_best_lr()"
   ]
  },
  {
   "cell_type": "code",
   "execution_count": 53,
   "id": "2ea8f112",
   "metadata": {},
   "outputs": [],
   "source": [
    "model.optimizer.set_lr(lrfinder.get_best_lr())"
   ]
  },
  {
   "cell_type": "code",
   "execution_count": 54,
   "id": "79b21748",
   "metadata": {},
   "outputs": [],
   "source": [
    "callbacks = [tt.cb.EarlyStopping(patience=10)]\n",
    "epochs = 100\n",
    "verbose = True"
   ]
  },
  {
   "cell_type": "code",
   "execution_count": 55,
   "id": "fede638b",
   "metadata": {},
   "outputs": [
    {
     "name": "stdout",
     "output_type": "stream",
     "text": [
      "0:\t[0s / 0s],\t\ttrain_loss: 0.6434,\tval_loss: 0.4924\n",
      "1:\t[0s / 0s],\t\ttrain_loss: 0.5464,\tval_loss: 0.4946\n",
      "2:\t[0s / 0s],\t\ttrain_loss: 0.5203,\tval_loss: 0.4669\n",
      "3:\t[0s / 0s],\t\ttrain_loss: 0.4944,\tval_loss: 0.4592\n",
      "4:\t[0s / 0s],\t\ttrain_loss: 0.5056,\tval_loss: 0.4520\n",
      "5:\t[0s / 1s],\t\ttrain_loss: 0.4980,\tval_loss: 0.4619\n",
      "6:\t[0s / 1s],\t\ttrain_loss: 0.4913,\tval_loss: 0.4467\n",
      "7:\t[0s / 1s],\t\ttrain_loss: 0.4921,\tval_loss: 0.4459\n",
      "8:\t[0s / 1s],\t\ttrain_loss: 0.4920,\tval_loss: 0.4458\n",
      "9:\t[0s / 2s],\t\ttrain_loss: 0.4943,\tval_loss: 0.4466\n",
      "10:\t[0s / 2s],\t\ttrain_loss: 0.4842,\tval_loss: 0.4410\n",
      "11:\t[0s / 2s],\t\ttrain_loss: 0.4972,\tval_loss: 0.4713\n",
      "12:\t[0s / 2s],\t\ttrain_loss: 0.4828,\tval_loss: 0.4421\n",
      "13:\t[0s / 2s],\t\ttrain_loss: 0.4788,\tval_loss: 0.4587\n",
      "14:\t[0s / 2s],\t\ttrain_loss: 0.4826,\tval_loss: 0.4436\n",
      "15:\t[0s / 2s],\t\ttrain_loss: 0.4819,\tval_loss: 0.4523\n",
      "16:\t[0s / 2s],\t\ttrain_loss: 0.4939,\tval_loss: 0.4644\n",
      "17:\t[0s / 3s],\t\ttrain_loss: 0.4828,\tval_loss: 0.4597\n",
      "18:\t[0s / 3s],\t\ttrain_loss: 0.4807,\tval_loss: 0.4520\n",
      "19:\t[0s / 3s],\t\ttrain_loss: 0.4897,\tval_loss: 0.4644\n",
      "20:\t[0s / 3s],\t\ttrain_loss: 0.4848,\tval_loss: 0.4450\n"
     ]
    }
   ],
   "source": [
    "log = model.fit(x_train, y_train, batch_size, epochs, callbacks, verbose,\n",
    "                val_data=val.repeat(10).cat())"
   ]
  },
  {
   "cell_type": "code",
   "execution_count": 56,
   "id": "3ed391b0",
   "metadata": {},
   "outputs": [
    {
     "data": {
      "image/png": "[encoded data removed]",
      "text/plain": [
       "<Figure size 432x288 with 1 Axes>"
      ]
     },
     "metadata": {},
     "output_type": "display_data"
    }
   ],
   "source": [
    "_ = log.plot()"
   ]
  },
  {
   "cell_type": "code",
   "execution_count": 57,
   "id": "fa467d73",
   "metadata": {},
   "outputs": [],
   "source": [
    "_ = model.compute_baseline_hazards()"
   ]
  },
  {
   "cell_type": "code",
   "execution_count": 58,
   "id": "0360ee82",
   "metadata": {},
   "outputs": [],
   "source": [
    "surv = model.predict_surv_df(x_test)"
   ]
  },
  {
   "cell_type": "code",
   "execution_count": 59,
   "id": "b925cd73",
   "metadata": {},
   "outputs": [
    {
     "data": {
      "image/png": "[encoded data removed]",
      "text/plain": [
       "<Figure size 432x288 with 1 Axes>"
      ]
     },
     "metadata": {},
     "output_type": "display_data"
    }
   ],
   "source": [
    "surv.iloc[:, :5].plot()\n",
    "plt.ylabel('S(t | x)')\n",
    "_ = plt.xlabel('Time')"
   ]
  },
  {
   "cell_type": "code",
   "execution_count": 60,
   "id": "91eeaa33",
   "metadata": {},
   "outputs": [
    {
     "data": {
      "text/plain": [
       "0.8290564662934654"
      ]
     },
     "execution_count": 60,
     "metadata": {},
     "output_type": "execute_result"
    }
   ],
   "source": [
    "ev = EvalSurv(surv, durations_test, events_test, censor_surv='km')\n",
    "ev.concordance_td('antolini')"
   ]
  },
  {
   "cell_type": "code",
   "execution_count": 61,
   "id": "e4cf0e68",
   "metadata": {},
   "outputs": [],
   "source": [
    "input_test = data.iloc[test_index]\n",
    "durations_test, events_test = get_target(input_test)\n",
    "ev = EvalSurv(surv, durations_test, events_test, censor_surv='km')\n",
    "time_grid = np.linspace(durations_test.min(), durations_test.max(), 100)"
   ]
  },
  {
   "cell_type": "code",
   "execution_count": 62,
   "id": "b935b05d",
   "metadata": {},
   "outputs": [
    {
     "data": {
      "text/plain": [
       "0.12303476458321726"
      ]
     },
     "execution_count": 62,
     "metadata": {},
     "output_type": "execute_result"
    }
   ],
   "source": [
    "ev.integrated_brier_score(time_grid) "
   ]
  },
  {
   "cell_type": "code",
   "execution_count": 63,
   "id": "8d554b18",
   "metadata": {},
   "outputs": [
    {
     "data": {
      "text/plain": [
       "0.39320240057237693"
      ]
     },
     "execution_count": 63,
     "metadata": {},
     "output_type": "execute_result"
    }
   ],
   "source": [
    "ev.integrated_nbll(time_grid) "
   ]
  },
  {
   "cell_type": "markdown",
   "id": "1c2c07f5",
   "metadata": {},
   "source": [
    "# DeepSurv"
   ]
  },
  {
   "cell_type": "code",
   "execution_count": 4,
   "id": "7ab59635",
   "metadata": {},
   "outputs": [],
   "source": [
    "from pycox.models import CoxPH"
   ]
  },
  {
   "cell_type": "code",
   "execution_count": 5,
   "id": "c910d260",
   "metadata": {},
   "outputs": [
    {
     "name": "stderr",
     "output_type": "stream",
     "text": [
      "/var/folders/rb/zrr_wqjs59v2n19lg6kssgnw0000gr/T/ipykernel_14687/2858813610.py:50: SettingWithCopyWarning: \n",
      "A value is trying to be set on a copy of a slice from a DataFrame\n",
      "\n",
      "See the caveats in the documentation: https://pandas.pydata.org/pandas-docs/stable/user_guide/indexing.html#returning-a-view-versus-a-copy\n",
      "  input_train.drop(['uniquepid', 'patienthealthsystemstayid', 'actualhospitalmortality', 'actualiculos'], axis=1, inplace=True)\n",
      "/var/folders/rb/zrr_wqjs59v2n19lg6kssgnw0000gr/T/ipykernel_14687/2858813610.py:51: SettingWithCopyWarning: \n",
      "A value is trying to be set on a copy of a slice from a DataFrame\n",
      "\n",
      "See the caveats in the documentation: https://pandas.pydata.org/pandas-docs/stable/user_guide/indexing.html#returning-a-view-versus-a-copy\n",
      "  input_val.drop(['uniquepid', 'patienthealthsystemstayid', 'actualhospitalmortality', 'actualiculos'], axis=1, inplace=True)\n",
      "/var/folders/rb/zrr_wqjs59v2n19lg6kssgnw0000gr/T/ipykernel_14687/2858813610.py:61: SettingWithCopyWarning: \n",
      "A value is trying to be set on a copy of a slice from a DataFrame\n",
      "\n",
      "See the caveats in the documentation: https://pandas.pydata.org/pandas-docs/stable/user_guide/indexing.html#returning-a-view-versus-a-copy\n",
      "  input_test.drop(['uniquepid', 'patienthealthsystemstayid', 'actualhospitalmortality', 'actualiculos'], axis=1, inplace=True)\n"
     ]
    }
   ],
   "source": [
    "\n",
    "sample_labels = labels.loc[list(set(list(data.index.get_level_values('patient'))))]\n",
    "\n",
    "df_test = sample_labels.sample(frac=0.2)\n",
    "df_train = sample_labels.drop(df_test.index)\n",
    "df_val = sample_labels.sample(frac=0.2)\n",
    "df_train = sample_labels.drop(df_val.index)\n",
    "\n",
    "cols_standardize = ['age', 'height', 'weight']\n",
    "cols_leave = ['gender', 'hour', 'eyes', 'motor', 'verbal',\n",
    "       'ethnicity_BLACK/AFRICAN AMERICAN', 'ethnicity_OTHER',\n",
    "       'ethnicity_UNKNOWN', 'ethnicity_WHITE',\n",
    "       'ethnicity_WHITE - OTHER EUROPEAN', 'ethnicity_misc',\n",
    "       'first_careunit_Cardiac Vascular Intensive Care Unit (CVICU)',\n",
    "       'first_careunit_Coronary Care Unit (CCU)',\n",
    "       'first_careunit_Medical Intensive Care Unit (MICU)',\n",
    "       'first_careunit_Medical/Surgical Intensive Care Unit (MICU/SICU)',\n",
    "       'first_careunit_Neuro Intermediate', 'first_careunit_Neuro Stepdown',\n",
    "       'first_careunit_Neuro Surgical Intensive Care Unit (Neuro SICU)',\n",
    "       'first_careunit_Surgical Intensive Care Unit (SICU)',\n",
    "       'first_careunit_Trauma SICU (TSICU)',\n",
    "       'admission_location_EMERGENCY ROOM',\n",
    "       'admission_location_PHYSICIAN REFERRAL',\n",
    "       'admission_location_PROCEDURE SITE',\n",
    "       'admission_location_TRANSFER FROM HOSPITAL',\n",
    "       'admission_location_TRANSFER FROM SKILLED NURSING FACILITY',\n",
    "       'admission_location_WALK-IN/SELF REFERRAL', 'admission_location_misc',\n",
    "       'insurance_Medicaid', 'insurance_Medicare', 'insurance_Other']\n",
    "\n",
    "standardize = [([col], StandardScaler()) for col in cols_standardize]\n",
    "leave = [(col, None) for col in cols_leave]\n",
    "\n",
    "x_mapper = DataFrameMapper(standardize + leave)\n",
    "\n",
    "st = set(list(df_val.index.get_level_values('patient')))\n",
    "val_index = [i for i, e in enumerate(list(set(list(data.index.get_level_values('patient'))))) if e in st]\n",
    "st = set(list(df_train.index.get_level_values('patient')))\n",
    "train_index = [i for i, e in enumerate(list(set(list(data.index.get_level_values('patient'))))) if e in st]\n",
    "st = set(list(df_test.index.get_level_values('patient')))\n",
    "test_index = [i for i, e in enumerate(list(set(list(data.index.get_level_values('patient'))))) if e in st]\n",
    "\n",
    "input_train = data.iloc[list(train_index)]\n",
    "input_val = data.iloc[val_index]\n",
    "input_test = data.iloc[test_index]\n",
    "\n",
    "get_target = lambda df: (df['actualiculos'].values.astype('float32'), df['actualhospitalmortality'].values.astype('int32'))\n",
    "\n",
    "y_train = get_target(input_train)\n",
    "y_val = get_target(input_val)\n",
    "\n",
    "input_train.drop(['uniquepid', 'patienthealthsystemstayid', 'actualhospitalmortality', 'actualiculos'], axis=1, inplace=True)\n",
    "input_val.drop(['uniquepid', 'patienthealthsystemstayid', 'actualhospitalmortality', 'actualiculos'], axis=1, inplace=True)\n",
    "\n",
    "x_train = x_mapper.fit_transform(input_train).astype('float32')\n",
    "x_val = x_mapper.transform(input_val).astype('float32')\n",
    "\n",
    "val = x_val, y_val\n",
    "\n",
    "# We don't need to transform the test labels\n",
    "durations_test, events_test = get_target(input_test)\n",
    "\n",
    "input_test.drop(['uniquepid', 'patienthealthsystemstayid', 'actualhospitalmortality', 'actualiculos'], axis=1, inplace=True)\n",
    "\n",
    "x_test = x_mapper.transform(input_test).astype('float32')"
   ]
  },
  {
   "cell_type": "code",
   "execution_count": 22,
   "id": "35c4d5ed",
   "metadata": {},
   "outputs": [],
   "source": [
    "in_features = x_train.shape[1]\n",
    "num_nodes = [32, 32]\n",
    "out_features = 1\n",
    "batch_norm = True\n",
    "dropout = 0.5\n",
    "output_bias = False\n",
    "\n",
    "net = tt.practical.MLPVanilla(in_features, num_nodes, out_features, batch_norm,\n",
    "                              dropout, output_bias=output_bias)"
   ]
  },
  {
   "cell_type": "code",
   "execution_count": 23,
   "id": "a1a1ba3f",
   "metadata": {},
   "outputs": [],
   "source": [
    "model = CoxPH(net, tt.optim.Adam)"
   ]
  },
  {
   "cell_type": "code",
   "execution_count": 24,
   "id": "8daf61f1",
   "metadata": {},
   "outputs": [
    {
     "data": {
      "image/png": "[encoded data removed]",
      "text/plain": [
       "<Figure size 432x288 with 1 Axes>"
      ]
     },
     "metadata": {},
     "output_type": "display_data"
    }
   ],
   "source": [
    "batch_size = 256\n",
    "lrfinder = model.lr_finder(x_train, y_train, batch_size, tolerance=10)\n",
    "_ = lrfinder.plot()"
   ]
  },
  {
   "cell_type": "code",
   "execution_count": 25,
   "id": "6e477a70",
   "metadata": {},
   "outputs": [
    {
     "data": {
      "text/plain": [
       "0.0613590727341321"
      ]
     },
     "execution_count": 25,
     "metadata": {},
     "output_type": "execute_result"
    }
   ],
   "source": [
    "lrfinder.get_best_lr()"
   ]
  },
  {
   "cell_type": "code",
   "execution_count": 26,
   "id": "176ff820",
   "metadata": {},
   "outputs": [],
   "source": [
    "model.optimizer.set_lr(lrfinder.get_best_lr())"
   ]
  },
  {
   "cell_type": "code",
   "execution_count": 27,
   "id": "487c38ad",
   "metadata": {},
   "outputs": [],
   "source": [
    "epochs = 100\n",
    "callbacks = [tt.callbacks.EarlyStopping()]\n",
    "verbose = True"
   ]
  },
  {
   "cell_type": "code",
   "execution_count": 28,
   "id": "2a1cbc63",
   "metadata": {},
   "outputs": [
    {
     "name": "stdout",
     "output_type": "stream",
     "text": [
      "0:\t[1s / 1s],\t\ttrain_loss: 3.9951,\tval_loss: 3.8065\n",
      "1:\t[0s / 1s],\t\ttrain_loss: 3.8655,\tval_loss: 3.8290\n",
      "2:\t[0s / 2s],\t\ttrain_loss: 3.8493,\tval_loss: 3.7258\n",
      "3:\t[0s / 2s],\t\ttrain_loss: 3.8666,\tval_loss: 3.7253\n",
      "4:\t[0s / 3s],\t\ttrain_loss: 3.8217,\tval_loss: 3.6179\n",
      "5:\t[0s / 4s],\t\ttrain_loss: 3.8153,\tval_loss: 3.6662\n",
      "6:\t[0s / 5s],\t\ttrain_loss: 3.8171,\tval_loss: 3.5990\n",
      "7:\t[0s / 5s],\t\ttrain_loss: 3.8229,\tval_loss: 3.6269\n",
      "8:\t[0s / 6s],\t\ttrain_loss: 3.8007,\tval_loss: 3.5983\n",
      "9:\t[0s / 7s],\t\ttrain_loss: 3.8282,\tval_loss: 3.6857\n",
      "10:\t[0s / 7s],\t\ttrain_loss: 3.7874,\tval_loss: 3.8448\n",
      "11:\t[0s / 8s],\t\ttrain_loss: 3.7675,\tval_loss: 3.6212\n",
      "12:\t[0s / 8s],\t\ttrain_loss: 3.8027,\tval_loss: 3.6585\n",
      "13:\t[1s / 10s],\t\ttrain_loss: 3.8017,\tval_loss: 3.5951\n",
      "14:\t[0s / 10s],\t\ttrain_loss: 3.7631,\tval_loss: 4.9815\n",
      "15:\t[0s / 11s],\t\ttrain_loss: 3.8018,\tval_loss: 3.6791\n",
      "16:\t[0s / 11s],\t\ttrain_loss: 3.7986,\tval_loss: 3.6987\n",
      "17:\t[0s / 12s],\t\ttrain_loss: 3.7847,\tval_loss: 3.6883\n",
      "18:\t[0s / 13s],\t\ttrain_loss: 3.7807,\tval_loss: 3.6317\n",
      "19:\t[0s / 13s],\t\ttrain_loss: 3.7970,\tval_loss: 3.5854\n",
      "20:\t[0s / 14s],\t\ttrain_loss: 3.7817,\tval_loss: 3.6921\n",
      "21:\t[0s / 15s],\t\ttrain_loss: 3.7748,\tval_loss: 3.6076\n",
      "22:\t[0s / 15s],\t\ttrain_loss: 3.7569,\tval_loss: 3.7183\n",
      "23:\t[0s / 16s],\t\ttrain_loss: 3.8032,\tval_loss: 3.7719\n",
      "24:\t[0s / 17s],\t\ttrain_loss: 3.8303,\tval_loss: 3.7870\n",
      "25:\t[0s / 17s],\t\ttrain_loss: 3.8033,\tval_loss: 3.6462\n",
      "26:\t[0s / 18s],\t\ttrain_loss: 3.7857,\tval_loss: 3.6061\n",
      "27:\t[1s / 19s],\t\ttrain_loss: 3.7662,\tval_loss: 3.5845\n",
      "28:\t[0s / 20s],\t\ttrain_loss: 3.7484,\tval_loss: 3.6155\n",
      "29:\t[0s / 20s],\t\ttrain_loss: 3.7687,\tval_loss: 3.6379\n",
      "30:\t[0s / 21s],\t\ttrain_loss: 3.7851,\tval_loss: 3.6818\n",
      "31:\t[0s / 22s],\t\ttrain_loss: 3.7983,\tval_loss: 3.6090\n",
      "32:\t[0s / 22s],\t\ttrain_loss: 3.7868,\tval_loss: 3.6870\n",
      "33:\t[0s / 23s],\t\ttrain_loss: 3.7659,\tval_loss: 3.6614\n",
      "34:\t[0s / 24s],\t\ttrain_loss: 3.7857,\tval_loss: 3.6124\n",
      "35:\t[0s / 25s],\t\ttrain_loss: 3.8073,\tval_loss: 3.6361\n",
      "36:\t[0s / 25s],\t\ttrain_loss: 3.7899,\tval_loss: 3.5826\n",
      "37:\t[0s / 26s],\t\ttrain_loss: 3.7618,\tval_loss: 3.7857\n",
      "38:\t[1s / 27s],\t\ttrain_loss: 3.7808,\tval_loss: 3.6721\n",
      "39:\t[0s / 28s],\t\ttrain_loss: 3.7944,\tval_loss: 3.6939\n",
      "40:\t[0s / 29s],\t\ttrain_loss: 3.7633,\tval_loss: 3.6126\n",
      "41:\t[0s / 30s],\t\ttrain_loss: 3.8086,\tval_loss: 3.6107\n",
      "42:\t[2s / 32s],\t\ttrain_loss: 3.7657,\tval_loss: 3.6722\n",
      "43:\t[1s / 33s],\t\ttrain_loss: 3.7566,\tval_loss: 3.5981\n",
      "44:\t[1s / 34s],\t\ttrain_loss: 3.7666,\tval_loss: 3.6304\n",
      "45:\t[0s / 35s],\t\ttrain_loss: 3.7817,\tval_loss: 3.6255\n",
      "46:\t[0s / 36s],\t\ttrain_loss: 3.7727,\tval_loss: 3.5744\n",
      "47:\t[0s / 37s],\t\ttrain_loss: 3.7727,\tval_loss: 3.7030\n",
      "48:\t[0s / 38s],\t\ttrain_loss: 3.7665,\tval_loss: 3.7699\n",
      "49:\t[0s / 38s],\t\ttrain_loss: 3.7464,\tval_loss: 3.6761\n",
      "50:\t[0s / 39s],\t\ttrain_loss: 3.7832,\tval_loss: 3.6694\n",
      "51:\t[0s / 40s],\t\ttrain_loss: 3.7773,\tval_loss: 3.6513\n",
      "52:\t[0s / 41s],\t\ttrain_loss: 3.7651,\tval_loss: 3.7706\n",
      "53:\t[0s / 42s],\t\ttrain_loss: 3.7922,\tval_loss: 3.6381\n",
      "54:\t[0s / 43s],\t\ttrain_loss: 3.7634,\tval_loss: 3.5581\n",
      "55:\t[0s / 44s],\t\ttrain_loss: 3.7759,\tval_loss: 3.6536\n",
      "56:\t[1s / 45s],\t\ttrain_loss: 3.7805,\tval_loss: 3.6147\n",
      "57:\t[0s / 46s],\t\ttrain_loss: 3.7820,\tval_loss: 3.7334\n",
      "58:\t[0s / 47s],\t\ttrain_loss: 3.7838,\tval_loss: 3.7850\n",
      "59:\t[0s / 48s],\t\ttrain_loss: 3.7649,\tval_loss: 3.6058\n",
      "60:\t[0s / 49s],\t\ttrain_loss: 3.7489,\tval_loss: 3.5817\n",
      "61:\t[0s / 50s],\t\ttrain_loss: 3.7700,\tval_loss: 3.6828\n",
      "62:\t[1s / 51s],\t\ttrain_loss: 3.7740,\tval_loss: 3.5852\n",
      "63:\t[0s / 52s],\t\ttrain_loss: 3.7640,\tval_loss: 3.6873\n",
      "64:\t[0s / 53s],\t\ttrain_loss: 3.7613,\tval_loss: 3.6287\n"
     ]
    }
   ],
   "source": [
    "log = model.fit(x_train, y_train, batch_size, epochs, callbacks, verbose,\n",
    "                val_data=val, val_batch_size=batch_size)"
   ]
  },
  {
   "cell_type": "code",
   "execution_count": 29,
   "id": "2b961449",
   "metadata": {},
   "outputs": [
    {
     "data": {
      "image/png": "[encoded data removed]",
      "text/plain": [
       "<Figure size 432x288 with 1 Axes>"
      ]
     },
     "metadata": {},
     "output_type": "display_data"
    }
   ],
   "source": [
    "_ = log.plot()"
   ]
  },
  {
   "cell_type": "code",
   "execution_count": 30,
   "id": "f296c31c",
   "metadata": {},
   "outputs": [],
   "source": [
    "_ = model.compute_baseline_hazards()"
   ]
  },
  {
   "cell_type": "code",
   "execution_count": 31,
   "id": "28966b04",
   "metadata": {},
   "outputs": [],
   "source": [
    "surv = model.predict_surv_df(x_test)"
   ]
  },
  {
   "cell_type": "code",
   "execution_count": 32,
   "id": "3553a439",
   "metadata": {},
   "outputs": [
    {
     "data": {
      "image/png": "[encoded data removed]",
      "text/plain": [
       "<Figure size 432x288 with 1 Axes>"
      ]
     },
     "metadata": {},
     "output_type": "display_data"
    }
   ],
   "source": [
    "surv.iloc[:, :5].plot()\n",
    "plt.ylabel('S(t | x)')\n",
    "_ = plt.xlabel('Time')"
   ]
  },
  {
   "cell_type": "code",
   "execution_count": 33,
   "id": "fb6fe4fc",
   "metadata": {},
   "outputs": [],
   "source": [
    "ev = EvalSurv(surv, durations_test, events_test, censor_surv='km')"
   ]
  },
  {
   "cell_type": "code",
   "execution_count": 34,
   "id": "b537bfbc",
   "metadata": {},
   "outputs": [
    {
     "data": {
      "text/plain": [
       "0.8215312458356125"
      ]
     },
     "execution_count": 34,
     "metadata": {},
     "output_type": "execute_result"
    }
   ],
   "source": [
    "ev.concordance_td()"
   ]
  },
  {
   "cell_type": "code",
   "execution_count": 35,
   "id": "38f1137b",
   "metadata": {},
   "outputs": [],
   "source": [
    "time_grid = np.linspace(durations_test.min(), durations_test.max(), 100)"
   ]
  },
  {
   "cell_type": "code",
   "execution_count": 36,
   "id": "4e6975de",
   "metadata": {},
   "outputs": [
    {
     "data": {
      "text/plain": [
       "0.12832167569327627"
      ]
     },
     "execution_count": 36,
     "metadata": {},
     "output_type": "execute_result"
    }
   ],
   "source": [
    "ev.integrated_brier_score(time_grid)"
   ]
  },
  {
   "cell_type": "code",
   "execution_count": 37,
   "id": "2915c9ad",
   "metadata": {},
   "outputs": [
    {
     "data": {
      "text/plain": [
       "0.4034810681423046"
      ]
     },
     "execution_count": 37,
     "metadata": {},
     "output_type": "execute_result"
    }
   ],
   "source": [
    "ev.integrated_nbll(time_grid)"
   ]
  },
  {
   "cell_type": "code",
   "execution_count": null,
   "id": "a1d0ce19",
   "metadata": {},
   "outputs": [],
   "source": []
  },
  {
   "cell_type": "markdown",
   "id": "c44bf043",
   "metadata": {},
   "source": [
    "# PCHazard"
   ]
  },
  {
   "cell_type": "code",
   "execution_count": 38,
   "id": "70ce37a8",
   "metadata": {},
   "outputs": [],
   "source": [
    "from pycox.models import PCHazard"
   ]
  },
  {
   "cell_type": "code",
   "execution_count": 40,
   "id": "f4d336e9",
   "metadata": {},
   "outputs": [
    {
     "name": "stderr",
     "output_type": "stream",
     "text": [
      "/var/folders/rb/zrr_wqjs59v2n19lg6kssgnw0000gr/T/ipykernel_14687/513825794.py:53: SettingWithCopyWarning: \n",
      "A value is trying to be set on a copy of a slice from a DataFrame\n",
      "\n",
      "See the caveats in the documentation: https://pandas.pydata.org/pandas-docs/stable/user_guide/indexing.html#returning-a-view-versus-a-copy\n",
      "  input_train.drop(['uniquepid', 'patienthealthsystemstayid', 'actualhospitalmortality', 'actualiculos'], axis=1, inplace=True)\n",
      "/var/folders/rb/zrr_wqjs59v2n19lg6kssgnw0000gr/T/ipykernel_14687/513825794.py:54: SettingWithCopyWarning: \n",
      "A value is trying to be set on a copy of a slice from a DataFrame\n",
      "\n",
      "See the caveats in the documentation: https://pandas.pydata.org/pandas-docs/stable/user_guide/indexing.html#returning-a-view-versus-a-copy\n",
      "  input_val.drop(['uniquepid', 'patienthealthsystemstayid', 'actualhospitalmortality', 'actualiculos'], axis=1, inplace=True)\n",
      "/var/folders/rb/zrr_wqjs59v2n19lg6kssgnw0000gr/T/ipykernel_14687/513825794.py:65: SettingWithCopyWarning: \n",
      "A value is trying to be set on a copy of a slice from a DataFrame\n",
      "\n",
      "See the caveats in the documentation: https://pandas.pydata.org/pandas-docs/stable/user_guide/indexing.html#returning-a-view-versus-a-copy\n",
      "  input_test.drop(['uniquepid', 'patienthealthsystemstayid', 'actualhospitalmortality', 'actualiculos'], axis=1, inplace=True)\n"
     ]
    }
   ],
   "source": [
    "\n",
    "sample_labels = labels.loc[list(set(list(data.index.get_level_values('patient'))))]\n",
    "\n",
    "df_test = sample_labels.sample(frac=0.2)\n",
    "df_train = sample_labels.drop(df_test.index)\n",
    "df_val = sample_labels.sample(frac=0.2)\n",
    "df_train = sample_labels.drop(df_val.index)\n",
    "\n",
    "cols_standardize = ['age', 'height', 'weight']\n",
    "cols_leave = ['gender', 'hour', 'eyes', 'motor', 'verbal',\n",
    "       'ethnicity_BLACK/AFRICAN AMERICAN', 'ethnicity_OTHER',\n",
    "       'ethnicity_UNKNOWN', 'ethnicity_WHITE',\n",
    "       'ethnicity_WHITE - OTHER EUROPEAN', 'ethnicity_misc',\n",
    "       'first_careunit_Cardiac Vascular Intensive Care Unit (CVICU)',\n",
    "       'first_careunit_Coronary Care Unit (CCU)',\n",
    "       'first_careunit_Medical Intensive Care Unit (MICU)',\n",
    "       'first_careunit_Medical/Surgical Intensive Care Unit (MICU/SICU)',\n",
    "       'first_careunit_Neuro Intermediate', 'first_careunit_Neuro Stepdown',\n",
    "       'first_careunit_Neuro Surgical Intensive Care Unit (Neuro SICU)',\n",
    "       'first_careunit_Surgical Intensive Care Unit (SICU)',\n",
    "       'first_careunit_Trauma SICU (TSICU)',\n",
    "       'admission_location_EMERGENCY ROOM',\n",
    "       'admission_location_PHYSICIAN REFERRAL',\n",
    "       'admission_location_PROCEDURE SITE',\n",
    "       'admission_location_TRANSFER FROM HOSPITAL',\n",
    "       'admission_location_TRANSFER FROM SKILLED NURSING FACILITY',\n",
    "       'admission_location_WALK-IN/SELF REFERRAL', 'admission_location_misc',\n",
    "       'insurance_Medicaid', 'insurance_Medicare', 'insurance_Other']\n",
    "\n",
    "standardize = [([col], StandardScaler()) for col in cols_standardize]\n",
    "leave = [(col, None) for col in cols_leave]\n",
    "\n",
    "x_mapper = DataFrameMapper(standardize + leave)\n",
    "\n",
    "st = set(list(df_val.index.get_level_values('patient')))\n",
    "val_index = [i for i, e in enumerate(list(set(list(data.index.get_level_values('patient'))))) if e in st]\n",
    "st = set(list(df_train.index.get_level_values('patient')))\n",
    "train_index = [i for i, e in enumerate(list(set(list(data.index.get_level_values('patient'))))) if e in st]\n",
    "st = set(list(df_test.index.get_level_values('patient')))\n",
    "test_index = [i for i, e in enumerate(list(set(list(data.index.get_level_values('patient'))))) if e in st]\n",
    "\n",
    "input_train = data.iloc[list(train_index)]\n",
    "input_val = data.iloc[val_index]\n",
    "input_test = data.iloc[test_index]\n",
    "\n",
    "num_durations = 10\n",
    "labtrans = PCHazard.label_transform(num_durations)\n",
    "\n",
    "get_target = lambda df: (df['actualiculos'].values.astype('float32'), df['actualhospitalmortality'].values.astype('int32'))\n",
    "\n",
    "y_train = labtrans.fit_transform(*get_target(input_train))\n",
    "y_val = labtrans.transform(*get_target(input_val))\n",
    "\n",
    "input_train.drop(['uniquepid', 'patienthealthsystemstayid', 'actualhospitalmortality', 'actualiculos'], axis=1, inplace=True)\n",
    "input_val.drop(['uniquepid', 'patienthealthsystemstayid', 'actualhospitalmortality', 'actualiculos'], axis=1, inplace=True)\n",
    "\n",
    "x_train = x_mapper.fit_transform(input_train).astype('float32')\n",
    "x_val = x_mapper.transform(input_val).astype('float32')\n",
    "\n",
    "train = (x_train, y_train)\n",
    "val = (x_val, y_val)\n",
    "\n",
    "# We don't need to transform the test labels\n",
    "durations_test, events_test = get_target(input_test)\n",
    "\n",
    "input_test.drop(['uniquepid', 'patienthealthsystemstayid', 'actualhospitalmortality', 'actualiculos'], axis=1, inplace=True)\n",
    "\n",
    "x_test = x_mapper.transform(input_test).astype('float32')"
   ]
  },
  {
   "cell_type": "code",
   "execution_count": 50,
   "id": "a25ba3af",
   "metadata": {},
   "outputs": [],
   "source": [
    "in_features = x_train.shape[1]\n",
    "num_nodes = [3*in_features, 5*in_features, 3*in_features]\n",
    "out_features = labtrans.out_features\n",
    "batch_norm = True\n",
    "dropout = 0.5\n",
    "output_bias = False\n",
    "\n",
    "net = tt.practical.MLPVanilla(in_features, num_nodes, out_features, batch_norm, dropout)"
   ]
  },
  {
   "cell_type": "code",
   "execution_count": 51,
   "id": "65663745",
   "metadata": {},
   "outputs": [],
   "source": [
    "model = PCHazard(net, tt.optim.Adam, duration_index=labtrans.cuts)"
   ]
  },
  {
   "cell_type": "code",
   "execution_count": 52,
   "id": "19fd8a06",
   "metadata": {},
   "outputs": [
    {
     "data": {
      "image/png": "[encoded data removed]",
      "text/plain": [
       "<Figure size 432x288 with 1 Axes>"
      ]
     },
     "metadata": {},
     "output_type": "display_data"
    }
   ],
   "source": [
    "batch_size = 256\n",
    "lr_finder = model.lr_finder(x_train, y_train, batch_size, tolerance=8)\n",
    "_ = lr_finder.plot()"
   ]
  },
  {
   "cell_type": "code",
   "execution_count": 53,
   "id": "d4c72e36",
   "metadata": {},
   "outputs": [
    {
     "data": {
      "text/plain": [
       "0.050941380148164093"
      ]
     },
     "execution_count": 53,
     "metadata": {},
     "output_type": "execute_result"
    }
   ],
   "source": [
    "lr_finder.get_best_lr()"
   ]
  },
  {
   "cell_type": "code",
   "execution_count": 54,
   "id": "68462336",
   "metadata": {},
   "outputs": [],
   "source": [
    "model.optimizer.set_lr(lr_finder.get_best_lr())"
   ]
  },
  {
   "cell_type": "code",
   "execution_count": 55,
   "id": "197506a1",
   "metadata": {},
   "outputs": [
    {
     "name": "stdout",
     "output_type": "stream",
     "text": [
      "0:\t[1s / 1s],\t\ttrain_loss: 0.4462,\tval_loss: 2.3572\n",
      "1:\t[1s / 3s],\t\ttrain_loss: 0.3779,\tval_loss: 4.5159\n",
      "2:\t[1s / 5s],\t\ttrain_loss: 0.3761,\tval_loss: 0.4008\n",
      "3:\t[1s / 6s],\t\ttrain_loss: 0.3730,\tval_loss: 4.2772\n",
      "4:\t[1s / 8s],\t\ttrain_loss: 0.3725,\tval_loss: 2.2260\n",
      "5:\t[1s / 10s],\t\ttrain_loss: 0.3704,\tval_loss: 3.3952\n",
      "6:\t[2s / 12s],\t\ttrain_loss: 0.3697,\tval_loss: 1.5997\n",
      "7:\t[1s / 14s],\t\ttrain_loss: 0.3723,\tval_loss: 1.2817\n",
      "8:\t[2s / 16s],\t\ttrain_loss: 0.3702,\tval_loss: 7.6783\n",
      "9:\t[2s / 18s],\t\ttrain_loss: 0.3710,\tval_loss: 1.1551\n",
      "10:\t[3s / 22s],\t\ttrain_loss: 0.3735,\tval_loss: 8.1479\n",
      "11:\t[2s / 24s],\t\ttrain_loss: 0.3709,\tval_loss: 0.6147\n",
      "12:\t[1s / 26s],\t\ttrain_loss: 0.3726,\tval_loss: 2.0394\n"
     ]
    }
   ],
   "source": [
    "epochs = 100\n",
    "callbacks = [tt.callbacks.EarlyStopping()]\n",
    "log = model.fit(x_train, y_train, batch_size, epochs, callbacks, val_data=val)"
   ]
  },
  {
   "cell_type": "code",
   "execution_count": 56,
   "id": "11b23754",
   "metadata": {},
   "outputs": [
    {
     "data": {
      "image/png": "[encoded data removed]",
      "text/plain": [
       "<Figure size 432x288 with 1 Axes>"
      ]
     },
     "metadata": {},
     "output_type": "display_data"
    }
   ],
   "source": [
    "_ = log.plot()"
   ]
  },
  {
   "cell_type": "code",
   "execution_count": 57,
   "id": "33201f39",
   "metadata": {},
   "outputs": [],
   "source": [
    "surv = model.predict_surv_df(x_test)"
   ]
  },
  {
   "cell_type": "code",
   "execution_count": 58,
   "id": "dea2adcc",
   "metadata": {},
   "outputs": [],
   "source": [
    "model.sub = 10"
   ]
  },
  {
   "cell_type": "code",
   "execution_count": 59,
   "id": "9e7a85da",
   "metadata": {},
   "outputs": [
    {
     "data": {
      "image/png": "[encoded data removed]",
      "text/plain": [
       "<Figure size 432x288 with 1 Axes>"
      ]
     },
     "metadata": {},
     "output_type": "display_data"
    }
   ],
   "source": [
    "surv = model.predict_surv_df(x_test)\n",
    "surv.iloc[:, :5].plot(drawstyle='steps-post')\n",
    "plt.ylabel('S(t | x)')\n",
    "_ = plt.xlabel('Time')"
   ]
  },
  {
   "cell_type": "code",
   "execution_count": 60,
   "id": "77391bd8",
   "metadata": {},
   "outputs": [],
   "source": [
    "ev = EvalSurv(surv, durations_test, events_test, censor_surv='km')"
   ]
  },
  {
   "cell_type": "code",
   "execution_count": 61,
   "id": "905d7505",
   "metadata": {},
   "outputs": [
    {
     "data": {
      "text/plain": [
       "0.8300134157691937"
      ]
     },
     "execution_count": 61,
     "metadata": {},
     "output_type": "execute_result"
    }
   ],
   "source": [
    "ev.concordance_td('antolini')"
   ]
  },
  {
   "cell_type": "code",
   "execution_count": 62,
   "id": "003f81ec",
   "metadata": {},
   "outputs": [],
   "source": [
    "time_grid = np.linspace(durations_test.min(), durations_test.max(), 100)"
   ]
  },
  {
   "cell_type": "code",
   "execution_count": 63,
   "id": "0e9a9536",
   "metadata": {},
   "outputs": [
    {
     "data": {
      "text/plain": [
       "0.1215123589276511"
      ]
     },
     "execution_count": 63,
     "metadata": {},
     "output_type": "execute_result"
    }
   ],
   "source": [
    "ev.integrated_brier_score(time_grid) "
   ]
  },
  {
   "cell_type": "code",
   "execution_count": 64,
   "id": "e75f4a71",
   "metadata": {},
   "outputs": [
    {
     "data": {
      "text/plain": [
       "0.37802671214865163"
      ]
     },
     "execution_count": 64,
     "metadata": {},
     "output_type": "execute_result"
    }
   ],
   "source": [
    "ev.integrated_nbll(time_grid) "
   ]
  },
  {
   "cell_type": "code",
   "execution_count": null,
   "id": "729e1c73",
   "metadata": {},
   "outputs": [],
   "source": []
  },
  {
   "cell_type": "code",
   "execution_count": null,
   "id": "c4732a6e",
   "metadata": {},
   "outputs": [],
   "source": []
  }
 ],
 "metadata": {
  "kernelspec": {
   "display_name": "Python 3 (ipykernel)",
   "language": "python",
   "name": "python3"
  },
  "language_info": {
   "codemirror_mode": {
    "name": "ipython",
    "version": 3
   },
   "file_extension": ".py",
   "mimetype": "text/x-python",
   "name": "python",
   "nbconvert_exporter": "python",
   "pygments_lexer": "ipython3",
   "version": "3.8.13"
  }
 },
 "nbformat": 4,
 "nbformat_minor": 5
}
